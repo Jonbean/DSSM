{
 "cells": [
  {
   "cell_type": "code",
   "execution_count": 4,
   "metadata": {
    "collapsed": true
   },
   "outputs": [],
   "source": [
    "Adam_LR_ls = ['0.001', '0.0005', '0.002']\n",
    "gener_dnn = ['256x300', '128x300']\n",
    "index = ['8E-3', '5E-3']\n",
    "\n",
    "for j in range(len(Adam_LR_ls)):\n",
    "    for l in range(len(gener_dnn)):\n",
    "        for m in range(len(index)):\n",
    "            f = open('../adversarial/noiseAdv_DNNhinge'+str(j)+str(k)+str(l)+str(m)+'.job','w')\n",
    "            f.write('#!/bin/bash\\n')\n",
    "            f.write('#$ -S /bin/bash\\n')\n",
    "            f.write('#$ -M jontsai@uchicago.edu\\n')\n",
    "            f.write('#$ -N noiseAdv_DNNhinge'+str(j)+str(k)+str(l)+str(m)+'\\n')\n",
    "            f.write('#$ -m beasn\\n')\n",
    "            f.write('#$ -o noiseAdv_DNNhinge'+str(j)+str(k)+str(l)+str(m)+'.out\\n')\n",
    "            f.write('#$ -e noiseAdv_DNNhinge'+str(j)+str(k)+str(l)+str(m)+'.err\\n')\n",
    "            f.write('#$ -r n\\n')\n",
    "            f.write('#$ -cwd\\n')\n",
    "            f.write('SETTING1=\"300\"\\n')\n",
    "            f.write('SETTING2=\"300\"\\n')\n",
    "            f.write('SETTING3=\"150\"\\n')\n",
    "            f.write('SETTING4=\"'+gener_dnn[l]+'\"\\n')\n",
    "            f.write('SETTING5=\"0\"\\n')\n",
    "            f.write('SETTING6=\"'+Adam_LR_ls[j]+'\"\\n')\n",
    "            f.write('SETTING7=\"'+Adam_LR_ls[j]+'\"\\n')            \n",
    "            f.write('SETTING8=\"1.0\"\\n')\n",
    "            f.write('SETTING9=\"last\"\\n')\n",
    "            f.write('SETTING10=\"default\"\\n')\n",
    "            f.write('SETTING11=\"DNN\"\\n')\n",
    "            f.write('SETTING12=\"hinge\"\\n')\n",
    "            f.write('SETTING13=\"300x1\"\\n')\n",
    "            f.write('SETTING14=\"1\"\\n')\n",
    "            f.write('SETTING15=\"1\"\\n')\n",
    "            f.write('SETTING16=\"'+index[m]+'\"\\n')\n",
    "            f.write('export OMP_NUM_THREADS=1\\n')\n",
    "            f.write('export OPENBLAS_NUM_THREADS=1\\n')\n",
    "            f.write('echo \"Start - `date`\"\\n')\n",
    "            f.write('/home-nfs/jontsai/anaconda/bin/python HierBLSTM_noiseAdv.py \\\\\\n')\n",
    "            f.write('$SETTING1 $SETTING2 $SETTING3 $SETTING4 $SETTING5 $SETTING6 $SETTING7 $SETTING8 $SETTING9 $SETTING10 $SETTING11 $SETTING12 $SETTING13 $SETTING14 $SETTING15 $SETTING16\\n')\n",
    "            f.write('echo \"End - `date`\"\\n')\n",
    "            f.close()"
   ]
  },
  {
   "cell_type": "code",
   "execution_count": 6,
   "metadata": {
    "collapsed": false
   },
   "outputs": [
    {
     "ename": "IOError",
     "evalue": "[Errno 2] No such file or directory: '../hierachical_rnn/noiseAdv_DNNhinge0200.out'",
     "output_type": "error",
     "traceback": [
      "\u001b[1;31m---------------------------------------------------------------------------\u001b[0m",
      "\u001b[1;31mIOError\u001b[0m                                   Traceback (most recent call last)",
      "\u001b[1;32m<ipython-input-6-e561567ea416>\u001b[0m in \u001b[0;36m<module>\u001b[1;34m()\u001b[0m\n\u001b[0;32m      8\u001b[0m     \u001b[1;32mfor\u001b[0m \u001b[0mj\u001b[0m \u001b[1;32min\u001b[0m \u001b[0mrange\u001b[0m\u001b[1;33m(\u001b[0m\u001b[1;36m2\u001b[0m\u001b[1;33m)\u001b[0m\u001b[1;33m:\u001b[0m\u001b[1;33m\u001b[0m\u001b[0m\n\u001b[0;32m      9\u001b[0m         \u001b[1;32mfor\u001b[0m \u001b[0mk\u001b[0m \u001b[1;32min\u001b[0m \u001b[0mrange\u001b[0m\u001b[1;33m(\u001b[0m\u001b[1;36m3\u001b[0m\u001b[1;33m)\u001b[0m\u001b[1;33m:\u001b[0m\u001b[1;33m\u001b[0m\u001b[0m\n\u001b[1;32m---> 10\u001b[1;33m             \u001b[0mf\u001b[0m \u001b[1;33m=\u001b[0m \u001b[0mopen\u001b[0m\u001b[1;33m(\u001b[0m\u001b[1;34m'../hierachical_rnn/noiseAdv_DNNhinge'\u001b[0m\u001b[1;33m+\u001b[0m\u001b[0mstr\u001b[0m\u001b[1;33m(\u001b[0m\u001b[0mi\u001b[0m\u001b[1;33m)\u001b[0m\u001b[1;33m+\u001b[0m\u001b[1;34m'2'\u001b[0m\u001b[1;33m+\u001b[0m\u001b[0mstr\u001b[0m\u001b[1;33m(\u001b[0m\u001b[0mj\u001b[0m\u001b[1;33m)\u001b[0m\u001b[1;33m+\u001b[0m\u001b[0mstr\u001b[0m\u001b[1;33m(\u001b[0m\u001b[0mk\u001b[0m\u001b[1;33m)\u001b[0m\u001b[1;33m+\u001b[0m\u001b[1;34m'.out'\u001b[0m\u001b[1;33m,\u001b[0m\u001b[1;34m'r'\u001b[0m\u001b[1;33m)\u001b[0m\u001b[1;33m\u001b[0m\u001b[0m\n\u001b[0m\u001b[0;32m     11\u001b[0m             \u001b[0mbest_val_acc\u001b[0m \u001b[1;33m=\u001b[0m \u001b[1;36m0.0\u001b[0m\u001b[1;33m\u001b[0m\u001b[0m\n\u001b[0;32m     12\u001b[0m             \u001b[0mbest_test_acc\u001b[0m \u001b[1;33m=\u001b[0m \u001b[1;36m0.0\u001b[0m\u001b[1;33m\u001b[0m\u001b[0m\n",
      "\u001b[1;31mIOError\u001b[0m: [Errno 2] No such file or directory: '../hierachical_rnn/noiseAdv_DNNhinge0200.out'"
     ]
    }
   ],
   "source": [
    "import numpy as np\n",
    "\n",
    "best_val_acc_ls = np.zeros((3,2,2))\n",
    "\n",
    "best_test_acc_ls = np.zeros((3,2,2))\n",
    "\n",
    "for i in range(2):\n",
    "    for j in range(2):\n",
    "        for k in range(3):\n",
    "            f = open('../hierachical_rnn/noiseAdv_DNNhinge'+str(i)+'2'+str(j)+str(k)+'.out','r')\n",
    "            best_val_acc = 0.0\n",
    "            best_test_acc = 0.0\n",
    "            for line in f:\n",
    "                if line.startswith('accuracy is'): \n",
    "                    try:\n",
    "                        val_acc = float(line.split(' ')[-2])\n",
    "                    except:\n",
    "                        val_acc = float(line.split(' ')[-1])\n",
    "                    if val_acc >= best_val_acc:\n",
    "                        best_val_acc = val_acc\n",
    "                if line.startswith('test set accuracy'):\n",
    "                    test_acc = float(line.split(' ')[-2])\n",
    "                    if test_acc >= best_test_acc:\n",
    "                        best_test_acc = test_acc\n",
    "            best_val_acc_ls[i][j][k] = best_val_acc\n",
    "            best_test_acc_ls[i][j][k] = best_test_acc\n",
    "            f.close()"
   ]
  },
  {
   "cell_type": "code",
   "execution_count": null,
   "metadata": {
    "collapsed": true
   },
   "outputs": [],
   "source": []
  }
 ],
 "metadata": {
  "kernelspec": {
   "display_name": "Python 2",
   "language": "python",
   "name": "python2"
  },
  "language_info": {
   "codemirror_mode": {
    "name": "ipython",
    "version": 2
   },
   "file_extension": ".py",
   "mimetype": "text/x-python",
   "name": "python",
   "nbconvert_exporter": "python",
   "pygments_lexer": "ipython2",
   "version": "2.7.11"
  }
 },
 "nbformat": 4,
 "nbformat_minor": 0
}
