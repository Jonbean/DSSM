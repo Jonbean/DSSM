{
 "cells": [
  {
   "cell_type": "code",
   "execution_count": 4,
   "metadata": {
    "collapsed": true
   },
   "outputs": [],
   "source": [
    "discrim_dnn = ['300x150x70x35x1', '400x200x50x1', '512x256x1']\n",
    "gener_dnn = ['256x300', '128x300']\n",
    "index = ['8E-3', '5E-3']\n",
    "\n",
    "for j in range(len(discrim_dnn)):\n",
    "    for l in range(len(gener_dnn)):\n",
    "        for m in range(len(index)):\n",
    "            f = open('../adversarial/noiseAdv_hingemaxbatch_DNN'+str(j)+str(l)+str(m)+'.job','w')\n",
    "            f.write('#!/bin/bash\\n')\n",
    "            f.write('#$ -S /bin/bash\\n')\n",
    "            f.write('#$ -M jontsai@uchicago.edu\\n')\n",
    "            f.write('#$ -N noiseAdv_hingemaxbatchDNN'+str(j)+str(l)+str(m)+'\\n')\n",
    "            f.write('#$ -m beasn\\n')\n",
    "            f.write('#$ -o noiseAdv_hingemaxbatchDNN'+str(j)+str(l)+str(m)+'.out\\n')\n",
    "            f.write('#$ -e noiseAdv_hingemaxbatchDNN'+str(j)+str(l)+str(m)+'.err\\n')\n",
    "            f.write('#$ -r n\\n')\n",
    "            f.write('#$ -cwd\\n')\n",
    "            f.write('SETTING1=\"300\"\\n')\n",
    "            f.write('SETTING2=\"300\"\\n')\n",
    "            f.write('SETTING3=\"150\"\\n')\n",
    "            f.write('SETTING4=\"'+gener_dnn[l]+'\"\\n')\n",
    "            f.write('SETTING5=\"0\"\\n')\n",
    "            f.write('SETTING6=\"0.0005\"\\n')\n",
    "            f.write('SETTING7=\"0.0005\"\\n')            \n",
    "            f.write('SETTING8=\"1.0\"\\n')\n",
    "            f.write('SETTING9=\"sequence\"\\n')\n",
    "            f.write('SETTING10=\"default\"\\n')\n",
    "            f.write('SETTING11=\"DNN\"\\n')\n",
    "            f.write('SETTING12=\"hinge\"\\n')\n",
    "            f.write('SETTING13=\"normal\"\\n')\n",
    "            f.write('SETTING14=\"'+discrim_dnn[j]+'\"\\n')\n",
    "            f.write('SETTING15=\"1\"\\n')\n",
    "            f.write('SETTING16=\"1\"\\n')\n",
    "            f.write('SETTING17=\"'+index[m]+'\"\\n')\n",
    "            f.write('SETTING18=\"noiseAdv_hingemaxbatchDNN'+str(j)+str(l)+str(m)+'\"\\n')\n",
    "            f.write('export OMP_NUM_THREADS=1\\n')\n",
    "            f.write('export OPENBLAS_NUM_THREADS=1\\n')\n",
    "            f.write('echo \"Start - `date`\"\\n')\n",
    "            f.write('/home-nfs/jontsai/anaconda/bin/python HierBLSTM_hingeNoiseAdv.py \\\\\\n')\n",
    "            f.write('$SETTING1 $SETTING2 $SETTING3 $SETTING4 $SETTING5 $SETTING6 $SETTING7 $SETTING8 $SETTING9 $SETTING10 $SETTING11 $SETTING12 $SETTING13 $SETTING14 $SETTING15 $SETTING16 $SETTING17\\n')\n",
    "            f.write('echo \"End - `date`\"\\n')\n",
    "            f.close()"
   ]
  },
  {
   "cell_type": "code",
   "execution_count": 13,
   "metadata": {
    "collapsed": false
   },
   "outputs": [
    {
     "name": "stdout",
     "output_type": "stream",
     "text": [
      "accuracy is:  56.End - Sun Dec 11 05:21:10 CST 2016\n",
      "\n"
     ]
    }
   ],
   "source": [
    "import numpy as np\n",
    "\n",
    "best_val_acc_ls = np.zeros((3,2,2))\n",
    "\n",
    "best_test_acc_ls = np.zeros((3,2,2))\n",
    "\n",
    "for i in range(3):\n",
    "    for j in range(2):\n",
    "        for k in range(2):\n",
    "            f = open('../adversarial/noiseAdv_DNNhinge'+str(i)+'2'+str(j)+str(k)+'.out','r')\n",
    "            best_val_acc = 0.0\n",
    "            best_test_acc = 0.0\n",
    "            for line in f:\n",
    "                if line.startswith('accuracy is'): \n",
    "                    try:\n",
    "                        val_acc = float(line.split(' ')[-2])\n",
    "                    except:\n",
    "                        print line\n",
    "                        val_acc = float(line.split(' ')[-1])\n",
    "                    if val_acc >= best_val_acc:\n",
    "                        best_val_acc = val_acc\n",
    "                if line.startswith('test set accuracy'):\n",
    "                    test_acc = float(line.split(' ')[-2])\n",
    "                    if test_acc >= best_test_acc:\n",
    "                        best_test_acc = test_acc\n",
    "            best_val_acc_ls[i][j][k] = best_val_acc\n",
    "            best_test_acc_ls[i][j][k] = best_test_acc\n",
    "            f.close()"
   ]
  },
  {
   "cell_type": "code",
   "execution_count": 10,
   "metadata": {
    "collapsed": false
   },
   "outputs": [
    {
     "name": "stdout",
     "output_type": "stream",
     "text": [
      "[[[   56.81453768    57.29556387]\n",
      "  [   57.18866916    57.13522181]]\n",
      "\n",
      " [[   57.34901122    57.616248  ]\n",
      "  [   56.70764297    57.08177445]]\n",
      "\n",
      " [[   57.08177445  2016.        ]\n",
      "  [   56.81453768    57.24211652]]]\n",
      "[[[ 55.69214324  56.01282736]\n",
      "  [ 55.53180118  55.95938001]]\n",
      "\n",
      " [[ 56.28006414  56.54730091]\n",
      "  [ 55.90593266  55.74559059]]\n",
      "\n",
      " [[ 55.90593266  55.31801176]\n",
      "  [ 55.90593266  55.90593266]]]\n"
     ]
    }
   ],
   "source": [
    "print best_val_acc_ls\n",
    "print best_test_acc_ls"
   ]
  },
  {
   "cell_type": "code",
   "execution_count": 21,
   "metadata": {
    "collapsed": false
   },
   "outputs": [],
   "source": [
    "import theano\n",
    "import theano.tensor as T\n",
    "\n",
    "a = T.matrix()\n",
    "\n",
    "b = T.argsort(a, axis = 1)\n",
    "\n",
    "middle = T.arange(a.shape[0]).dimshuffle(0,'x')\n",
    "\n",
    "c = T.argmin(T.abs_(b - middle), axis = 1)\n",
    "\n",
    "test = theano.function([a], c)"
   ]
  },
  {
   "cell_type": "code",
   "execution_count": 22,
   "metadata": {
    "collapsed": false
   },
   "outputs": [
    {
     "name": "stdout",
     "output_type": "stream",
     "text": [
      "[[12 12  4 13 11]\n",
      " [16 13  0  9  7]\n",
      " [11  2  3  4  3]\n",
      " [10 15 17 13 10]\n",
      " [ 4  4  3  7  4]]\n",
      "[2 3 1 2 3]\n"
     ]
    }
   ],
   "source": [
    "import numpy as np\n",
    "\n",
    "a_t = np.random.randint(20, size=(5,5))\n",
    "arg_list = test(a_t)\n",
    "print a_t\n",
    "print arg_list"
   ]
  },
  {
   "cell_type": "code",
   "execution_count": 4,
   "metadata": {
    "collapsed": false
   },
   "outputs": [
    {
     "name": "stdout",
     "output_type": "stream",
     "text": [
      "1.11.0\n"
     ]
    }
   ],
   "source": [
    "print np.__version__"
   ]
  },
  {
   "cell_type": "code",
   "execution_count": 39,
   "metadata": {
    "collapsed": false
   },
   "outputs": [],
   "source": [
    "import DNN_score_function\n",
    "import lasagne\n",
    "\n",
    "class model():\n",
    "    def __init__(self):\n",
    "        self.a = T.matrix()\n",
    "        self.b = T.matrix()\n",
    "        self.batchsize = self.a.shape[0]\n",
    "        self.sent_rnn_units = [self.a.shape[1]]\n",
    "\n",
    "        self.DNN_score_func = DNN_score_function.DNN(3,[5,3])\n",
    "        self.c = self.matrix_cos(self.a, self.b)\n",
    "        self.test = theano.function([self.a,self.b], self.c)\n",
    "        \n",
    "    def matrix_DNN(self, batch_rep1, batch_rep2):\n",
    "        batch_rep1_broad = batch_rep1 + T.zeros((self.batchsize, self.batchsize, self.sent_rnn_units[-1]))\n",
    "\n",
    "        batch_rep2_broad = batch_rep2 + T.zeros((self.batchsize, self.batchsize, self.sent_rnn_units[-1]))\n",
    "        batch_rep1_reshape = batch_rep1_broad.dimshuffle(1,0,2).reshape((-1, self.sent_rnn_units[-1]))\n",
    "        batch_rep2_reshape = batch_rep2_broad.reshape((-1, self.sent_rnn_units[-1]))\n",
    "\n",
    "        batch_concate_input = T.concatenate([batch_rep1_reshape, batch_rep2_reshape], axis = 1)\n",
    "        batch_score = lasagne.layers.get_output(self.DNN_score_func.output,\n",
    "                                               {self.DNN_score_func.l_in: batch_concate_input})\n",
    "        return batch_score.reshape((self.batchsize, self.batchsize))\n",
    "\n",
    "    def matrix_cos(self, batch_rep1, batch_rep2):\n",
    "        batch_rep1_broad = batch_rep1 + T.zeros((self.batchsize, self.batchsize, self.sent_rnn_units[-1]))\n",
    "\n",
    "        batch_rep2_broad = batch_rep2 + T.zeros((self.batchsize, self.batchsize, self.sent_rnn_units[-1]))\n",
    "        batch_rep1_reshape = batch_rep1_broad.dimshuffle(1,0,2).reshape((-1, self.sent_rnn_units[-1]))\n",
    "        batch_rep2_reshape = batch_rep2_broad.reshape((-1, self.sent_rnn_units[-1]))\n",
    "\n",
    "        batch_dot = (T.batched_dot(batch_rep1_reshape, batch_rep2_reshape)).reshape((self.batchsize, self.batchsize))\n",
    "        norm1 = T.sqrt(T.sum(T.sqr(batch_rep1), axis = 1))\n",
    "        norm2 = T.sqrt(T.sum(T.sqr(batch_rep2), axis = 1))\n",
    "\n",
    "        norm_matrix = T.dot(norm1.reshape((-1,1)),norm2.reshape((1,-1)))\n",
    "        return batch_dot/norm_matrix\n"
   ]
  },
  {
   "cell_type": "code",
   "execution_count": 41,
   "metadata": {
    "collapsed": false
   },
   "outputs": [
    {
     "name": "stdout",
     "output_type": "stream",
     "text": [
      "[[0 1 2]\n",
      " [3 4 5]\n",
      " [6 7 8]]\n",
      "[[ 9 10 11]\n",
      " [12 13 14]\n",
      " [15 16 17]]\n",
      "[[  32.   41.   50.]\n",
      " [ 122.  158.  194.]\n",
      " [ 212.  275.  338.]]\n"
     ]
    }
   ],
   "source": [
    "model_t = model()\n",
    "\n",
    "a = np.arange(3*3).reshape(3,3)\n",
    "b = np.arange(9,18).reshape(3,3)\n",
    "test_result = model_t.test(a,b)\n",
    "print a\n",
    "print b\n",
    "print test_result"
   ]
  },
  {
   "cell_type": "code",
   "execution_count": 47,
   "metadata": {
    "collapsed": false
   },
   "outputs": [],
   "source": [
    "a = T.vector()\n",
    "b = T.vector()\n",
    "c = T.dot(a.reshape((-1,1)), b.reshape((1,-1)))\n",
    "\n",
    "test = theano.function([a,b],c)"
   ]
  },
  {
   "cell_type": "code",
   "execution_count": 48,
   "metadata": {
    "collapsed": true
   },
   "outputs": [],
   "source": [
    "a_t = np.arange(3)\n",
    "b_t = np.asarray([5,7,9])\n",
    "c_t = test(a_t, b_t)"
   ]
  },
  {
   "cell_type": "code",
   "execution_count": 50,
   "metadata": {
    "collapsed": false
   },
   "outputs": [
    {
     "name": "stdout",
     "output_type": "stream",
     "text": [
      "[0 1 2]\n",
      "[5 7 9]\n",
      "[[  0.   0.   0.]\n",
      " [  5.   7.   9.]\n",
      " [ 10.  14.  18.]]\n"
     ]
    }
   ],
   "source": [
    "print a_t\n",
    "print b_t\n",
    "print c_t\n"
   ]
  },
  {
   "cell_type": "code",
   "execution_count": 51,
   "metadata": {
    "collapsed": false
   },
   "outputs": [
    {
     "data": {
      "text/plain": [
       "u'/home-nfs/jontsai/ROC/DSSM/adversarial'"
      ]
     },
     "execution_count": 51,
     "metadata": {},
     "output_type": "execute_result"
    }
   ],
   "source": [
    "pwd"
   ]
  },
  {
   "cell_type": "code",
   "execution_count": 53,
   "metadata": {
    "collapsed": false
   },
   "outputs": [
    {
     "name": "stdout",
     "output_type": "stream",
     "text": [
      "4\n"
     ]
    }
   ],
   "source": [
    "import cPickle as pickle\n",
    "\n",
    "file_handle = pickle.load(open('../../data/pickles/adv_mean_std_record.pkl','r'))\n",
    "\n",
    "print len(file_handle)"
   ]
  },
  {
   "cell_type": "code",
   "execution_count": 8,
   "metadata": {
    "collapsed": false
   },
   "outputs": [],
   "source": [
    "import lasagne\n",
    "\n",
    "import theano\n",
    "import theano.tensor as T\n",
    "import LSTM_Decoder\n",
    "\n",
    "De = LSTM_Decoder.LSTMDecoder([5,3,2])\n",
    "De.index_label_classi_decoder()\n",
    "\n",
    "a = T.matrix(dtype=theano.config.floatX)\n",
    "a_in = a.dimshuffle(0,1,'x') + T.zeros((a.shape[0], a.shape[1], 5))\n",
    "a_mask = T.ones_like(a)\n",
    "b = lasagne.layers.get_output(De.output, {De.l_in: a_in, De.l_mask: a_mask})\n",
    "\n",
    "test = theano.function([a], b)\n",
    "\n",
    "\n",
    "\n"
   ]
  },
  {
   "cell_type": "code",
   "execution_count": 9,
   "metadata": {
    "collapsed": false
   },
   "outputs": [
    {
     "data": {
      "text/plain": [
       "array([[[ 0.1202812 ,  0.12295712],\n",
       "        [ 0.21835778,  0.18777873],\n",
       "        [ 0.29210087,  0.23609609],\n",
       "        [ 0.3339535 ,  0.26655077],\n",
       "        [ 0.35441106,  0.291316  ],\n",
       "        [ 0.36623037,  0.3151724 ],\n",
       "        [ 0.37558322,  0.33907216]],\n",
       "\n",
       "       [[ 0.16643457,  0.11393597],\n",
       "        [ 0.28953943,  0.18735294],\n",
       "        [ 0.3531192 ,  0.23552933],\n",
       "        [ 0.38666388,  0.27086792],\n",
       "        [ 0.40723356,  0.29948229],\n",
       "        [ 0.42223229,  0.32449283],\n",
       "        [ 0.43486659,  0.34739558]],\n",
       "\n",
       "       [[ 0.17443445,  0.11033654],\n",
       "        [ 0.30764507,  0.18016743],\n",
       "        [ 0.37960195,  0.22281068],\n",
       "        [ 0.41899273,  0.25193557],\n",
       "        [ 0.44344687,  0.27428244],\n",
       "        [ 0.46097165,  0.29310206],\n",
       "        [ 0.47521528,  0.30996493]],\n",
       "\n",
       "       [[ 0.1771425 ,  0.10942381],\n",
       "        [ 0.31325719,  0.17823762],\n",
       "        [ 0.38818835,  0.21918645],\n",
       "        [ 0.42998985,  0.24614957],\n",
       "        [ 0.45637298,  0.26599533],\n",
       "        [ 0.47552038,  0.28201028],\n",
       "        [ 0.49115542,  0.29582867]],\n",
       "\n",
       "       [[ 0.1780494 ,  0.10922457],\n",
       "        [ 0.31486192,  0.17786953],\n",
       "        [ 0.39046296,  0.2185316 ],\n",
       "        [ 0.43283716,  0.24511818],\n",
       "        [ 0.45971724,  0.26450218],\n",
       "        [ 0.47933056,  0.27995664],\n",
       "        [ 0.49541673,  0.29311329]]])"
      ]
     },
     "execution_count": 9,
     "metadata": {},
     "output_type": "execute_result"
    }
   ],
   "source": [
    "import numpy as np\n",
    "\n",
    "a_t = np.arange(5*7).reshape((5,7))\n",
    "\n",
    "test(a_t)"
   ]
  },
  {
   "cell_type": "code",
   "execution_count": 28,
   "metadata": {
    "collapsed": false
   },
   "outputs": [],
   "source": [
    "a = T.arange(5).dimshuffle('x',0) + T.zeros((5,5))\n",
    "b = a.dimshuffle(0,1,'x') + T.zeros((5,5,1))\n",
    "\n",
    "\n",
    "c = T.arange(5*5*3).reshape((5,5,3))\n",
    "\n",
    "d = T.concatenate([b,c], axis = 2)\n",
    "test = theano.function([], d)\n"
   ]
  },
  {
   "cell_type": "code",
   "execution_count": 29,
   "metadata": {
    "collapsed": false
   },
   "outputs": [
    {
     "data": {
      "text/plain": [
       "array([[[  0.,   0.,   1.,   2.],\n",
       "        [  1.,   3.,   4.,   5.],\n",
       "        [  2.,   6.,   7.,   8.],\n",
       "        [  3.,   9.,  10.,  11.],\n",
       "        [  4.,  12.,  13.,  14.]],\n",
       "\n",
       "       [[  0.,  15.,  16.,  17.],\n",
       "        [  1.,  18.,  19.,  20.],\n",
       "        [  2.,  21.,  22.,  23.],\n",
       "        [  3.,  24.,  25.,  26.],\n",
       "        [  4.,  27.,  28.,  29.]],\n",
       "\n",
       "       [[  0.,  30.,  31.,  32.],\n",
       "        [  1.,  33.,  34.,  35.],\n",
       "        [  2.,  36.,  37.,  38.],\n",
       "        [  3.,  39.,  40.,  41.],\n",
       "        [  4.,  42.,  43.,  44.]],\n",
       "\n",
       "       [[  0.,  45.,  46.,  47.],\n",
       "        [  1.,  48.,  49.,  50.],\n",
       "        [  2.,  51.,  52.,  53.],\n",
       "        [  3.,  54.,  55.,  56.],\n",
       "        [  4.,  57.,  58.,  59.]],\n",
       "\n",
       "       [[  0.,  60.,  61.,  62.],\n",
       "        [  1.,  63.,  64.,  65.],\n",
       "        [  2.,  66.,  67.,  68.],\n",
       "        [  3.,  69.,  70.,  71.],\n",
       "        [  4.,  72.,  73.,  74.]]])"
      ]
     },
     "execution_count": 29,
     "metadata": {},
     "output_type": "execute_result"
    }
   ],
   "source": [
    "test()"
   ]
  },
  {
   "cell_type": "code",
   "execution_count": null,
   "metadata": {
    "collapsed": true
   },
   "outputs": [],
   "source": []
  },
  {
   "cell_type": "code",
   "execution_count": null,
   "metadata": {
    "collapsed": true
   },
   "outputs": [],
   "source": []
  }
 ],
 "metadata": {
  "kernelspec": {
   "display_name": "Python 2",
   "language": "python",
   "name": "python2"
  }
 },
 "nbformat": 4,
 "nbformat_minor": 0
}
