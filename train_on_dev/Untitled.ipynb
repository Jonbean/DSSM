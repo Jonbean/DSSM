{
 "cells": [
  {
   "cell_type": "code",
   "execution_count": 9,
   "metadata": {
    "collapsed": true
   },
   "outputs": [],
   "source": [
    "def account_acc_hier(filename_suffix):\n",
    "    acc_matrix = []\n",
    "    for i in range(5):\n",
    "        concGothr = []\n",
    "        for j in range(2):\n",
    "            with open('./'+filename_suffix+str(i)+str(j)+'.out','r') as f:\n",
    "                best_val_acc = 0.0\n",
    "                last_test_acc = 0.0\n",
    "                test_record_flag = False\n",
    "                info = f.readlines()\n",
    "                for line in info:\n",
    "                    if line.startswith('val set accuracy:'):\n",
    "                        tokens = line.split()\n",
    "                        val_acc = float(tokens[-2])\n",
    "                        if val_acc >= best_val_acc:\n",
    "                            best_val_acc = val_acc\n",
    "                            test_record_flag = True\n",
    "\n",
    "                    if line.startswith('test set accuracy:'):\n",
    "                        tokens = line.split()\n",
    "                        test_acc = float(tokens[-2])\n",
    "                        if test_record_flag:\n",
    "                            last_test_acc = test_acc\n",
    "                            test_record_flag = False\n",
    "\n",
    "            concGothr.append((best_val_acc, last_test_acc))\n",
    "        acc_matrix.append(concGothr)\n",
    "    return acc_matrix\n",
    "\n"
   ]
  },
  {
   "cell_type": "code",
   "execution_count": 19,
   "metadata": {
    "collapsed": false
   },
   "outputs": [
    {
     "data": {
      "text/plain": [
       "[[(79.2452830189, 71.5125601283), (81.6711590296, 70.6039551042)],\n",
       " [(82.2102425876, 71.5660074826), (78.167115903, 69.374665954)],\n",
       " [(83.0188679245, 69.3212185997), (79.5148247978, 71.9935863175)],\n",
       " [(81.6711590296, 73.9711384286), (81.1320754717, 69.962586852)],\n",
       " [(80.0539083558, 74.4521646179), (79.2452830189, 70.3367183324)]]"
      ]
     },
     "execution_count": 19,
     "metadata": {},
     "output_type": "execute_result"
    }
   ],
   "source": [
    "atthier_acc = account_acc_hier('AttHier')\n",
    "atthier_acc = "
   ]
  },
  {
   "cell_type": "code",
   "execution_count": 20,
   "metadata": {
    "collapsed": false
   },
   "outputs": [
    {
     "name": "stdout",
     "output_type": "stream",
     "text": [
      "81.2398921833\n",
      "79.9460916442\n"
     ]
    }
   ],
   "source": [
    "ave_concate_hier = np.sum(np.asarray([atthier_acc[i][0][0] for i in range(5)]))/5.0\n",
    "ave_gothrough_hier = np.sum(np.asarray([atthier_acc[i][1][0] for i in range(5)]))/5.0\n",
    "\n",
    "print ave_concate_hier\n",
    "print ave_gothrough_hier"
   ]
  },
  {
   "cell_type": "code",
   "execution_count": 12,
   "metadata": {
    "collapsed": false
   },
   "outputs": [],
   "source": [
    "def account_acc(filename_suffix):\n",
    "    acc_matrix = []\n",
    "    for i in range(5):\n",
    "        with open('./'+filename_suffix+str(i)+'.out','r') as f:\n",
    "            best_val_acc = 0.0\n",
    "            last_test_acc = 0.0\n",
    "            test_record_flag = False\n",
    "            info = f.readlines()\n",
    "            for line in info:\n",
    "                if line.startswith('val set accuracy:'):\n",
    "                    tokens = line.split()\n",
    "                    val_acc = float(tokens[-2])\n",
    "                    if val_acc >= best_val_acc:\n",
    "                        best_val_acc = val_acc\n",
    "                        test_record_flag = True\n",
    "\n",
    "                if line.startswith('test set accuracy:'):\n",
    "                    tokens = line.split()\n",
    "                    test_acc = float(tokens[-2])\n",
    "                    if test_record_flag:\n",
    "                        last_test_acc = test_acc\n",
    "                        test_record_flag = False\n",
    "\n",
    "            acc_matrix.append((best_val_acc, last_test_acc))\n",
    "    return acc_matrix\n"
   ]
  },
  {
   "cell_type": "code",
   "execution_count": 13,
   "metadata": {
    "collapsed": false
   },
   "outputs": [],
   "source": [
    "val_test_pair = account_acc('PlaintEnd')"
   ]
  },
  {
   "cell_type": "code",
   "execution_count": 14,
   "metadata": {
    "collapsed": false
   },
   "outputs": [
    {
     "name": "stdout",
     "output_type": "stream",
     "text": [
      "76.4420485175\n"
     ]
    }
   ],
   "source": [
    "val_acc_ls = np.asarray([val_test_pair[i][0] for i in range(5)])\n",
    "ave_acc = sum(val_acc_ls)/ 5.0\n",
    "print ave_acc"
   ]
  },
  {
   "cell_type": "code",
   "execution_count": 2,
   "metadata": {
    "collapsed": false
   },
   "outputs": [],
   "source": [
    "import cPickle as pickle\n",
    "import numpy as np\n",
    "\n",
    "with open('../../data/pickles/test_index_corpus.pkl', 'r') as f:\n",
    "    test_set = pickle.load(f)\n",
    "    test_ans = test_set[3]\n",
    "test_ans_vec = np.asarray(test_ans)"
   ]
  },
  {
   "cell_type": "code",
   "execution_count": 18,
   "metadata": {
    "collapsed": false
   },
   "outputs": [
    {
     "name": "stdout",
     "output_type": "stream",
     "text": [
      "0\n",
      "1\n",
      "2\n",
      "3\n",
      "4\n",
      "0.724211651523\n"
     ]
    }
   ],
   "source": [
    "\n",
    "five_scores = []\n",
    "for i in range(5):\n",
    "    print str(i)\n",
    "    f = open('./test_score_record_matrixsequence-concatenate-DNNhinge-300x150x75x32x1-1-0.1-'+str(i)+'.pkl', 'r')\n",
    "    a = pickle.load(f)\n",
    "    f.close()\n",
    "    \n",
    "    five_scores.append(a)\n",
    "end1_scores = [five_scores[i][:,0] for i in range(5)]\n",
    "end2_scores = [five_scores[i][:,1] for i in range(5)]\n",
    "\n",
    "def concate(end_scores):\n",
    "    end_reshape = [end1.reshape((-1,1)) for end1 in end_scores]\n",
    "    end_concate = np.concatenate(end_reshape, axis = 1)\n",
    "    return end_concate\n",
    "\n",
    "end1_matrix = concate(end1_scores)\n",
    "end2_matrix = concate(end2_scores)\n",
    "\n",
    "final_end1_score = end1_matrix.sum(axis = 1).reshape((-1,1))\n",
    "final_end2_score = end2_matrix.sum(axis = 1).reshape((-1,1))\n",
    "final_decision = np.argmax(np.concatenate((final_end1_score,final_end2_score), axis = 1),axis = 1)\n",
    "\n",
    "acc = (1871.0 - np.count_nonzero((final_decision - test_ans_vec)))/ 1871.0\n",
    "print acc"
   ]
  },
  {
   "cell_type": "code",
   "execution_count": 86,
   "metadata": {
    "collapsed": false
   },
   "outputs": [],
   "source": [
    "end1_scores = [five_scores[i][:,0] for i in range(5)]\n",
    "end2_scores = [five_scores[i][:,1] for i in range(5)]"
   ]
  },
  {
   "cell_type": "code",
   "execution_count": 87,
   "metadata": {
    "collapsed": false
   },
   "outputs": [],
   "source": [
    "import numpy as np\n",
    "def concate(end_scores):\n",
    "    end_reshape = [end1.reshape((-1,1)) for end1 in end_scores]\n",
    "    end_concate = np.concatenate(end_reshape, axis = 1)\n",
    "    return end_concate\n",
    "\n",
    "end1_matrix = concate(end1_scores)\n",
    "end2_matrix = concate(end2_scores)\n"
   ]
  },
  {
   "cell_type": "code",
   "execution_count": 88,
   "metadata": {
    "collapsed": false
   },
   "outputs": [],
   "source": [
    "final_end1_score = end1_matrix.sum(axis = 1).reshape((-1,1))\n",
    "final_end2_score = end2_matrix.sum(axis = 1).reshape((-1,1))\n",
    "final_decision = np.argmax(np.concatenate((final_end1_score,final_end2_score), axis = 1),axis = 1)\n"
   ]
  },
  {
   "cell_type": "code",
   "execution_count": 89,
   "metadata": {
    "collapsed": false
   },
   "outputs": [],
   "source": [
    "with open('../../data/pickles/test_index_corpus.pkl', 'r') as f:\n",
    "    test_set = pickle.load(f)\n",
    "    test_ans = test_set[3]\n",
    "test_ans_vec = np.asarray(test_ans)"
   ]
  },
  {
   "cell_type": "code",
   "execution_count": 90,
   "metadata": {
    "collapsed": true
   },
   "outputs": [],
   "source": [
    "acc = (1871.0 - np.count_nonzero((final_decision - test_ans_vec)))/ 1871.0\n"
   ]
  },
  {
   "cell_type": "code",
   "execution_count": 91,
   "metadata": {
    "collapsed": false
   },
   "outputs": [
    {
     "name": "stdout",
     "output_type": "stream",
     "text": [
      "0.663281667557\n"
     ]
    }
   ],
   "source": [
    "print acc"
   ]
  },
  {
   "cell_type": "code",
   "execution_count": 54,
   "metadata": {
    "collapsed": false
   },
   "outputs": [
    {
     "name": "stdout",
     "output_type": "stream",
     "text": [
      "[[ 0.86403882  0.08119898]\n",
      " [-0.659258   -0.66733739]\n",
      " [ 0.95036546 -0.95985331]\n",
      " ..., \n",
      " [-0.61107695  0.91769562]\n",
      " [ 0.7564098   0.89060787]\n",
      " [ 0.87376921  0.63988742]]\n"
     ]
    }
   ],
   "source": [
    "with open('./test_score_record_matrix_plaint_GoThroughlast--hinge-512x1-1-0.2-4.pkl','r') as f:\n",
    "    print pickle.load(f)"
   ]
  },
  {
   "cell_type": "code",
   "execution_count": null,
   "metadata": {
    "collapsed": true
   },
   "outputs": [],
   "source": []
  }
 ],
 "metadata": {
  "kernelspec": {
   "display_name": "Python 2",
   "language": "python",
   "name": "python2"
  },
  "language_info": {
   "codemirror_mode": {
    "name": "ipython",
    "version": 2
   },
   "file_extension": ".py",
   "mimetype": "text/x-python",
   "name": "python",
   "nbconvert_exporter": "python",
   "pygments_lexer": "ipython2",
   "version": "2.7.11"
  }
 },
 "nbformat": 4,
 "nbformat_minor": 0
}
