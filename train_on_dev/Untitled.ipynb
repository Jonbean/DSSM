{
 "cells": [
  {
   "cell_type": "code",
   "execution_count": 3,
   "metadata": {
    "collapsed": true
   },
   "outputs": [],
   "source": [
    "def account_acc_hier(filename_suffix):\n",
    "    acc_matrix = []\n",
    "    for i in range(5):\n",
    "        concGothr = []\n",
    "        for j in range(2):\n",
    "            with open('./'+filename_suffix+str(i)+str(j)+'.out','r') as f:\n",
    "                best_val_acc = 0.0\n",
    "                last_test_acc = 0.0\n",
    "                test_record_flag = False\n",
    "                info = f.readlines()\n",
    "                for line in info:\n",
    "                    if line.startswith('val set accuracy:'):\n",
    "                        tokens = line.split()\n",
    "                        val_acc = float(tokens[-2])\n",
    "                        if val_acc >= best_val_acc:\n",
    "                            best_val_acc = val_acc\n",
    "                            test_record_flag = True\n",
    "\n",
    "                    if line.startswith('test set accuracy:'):\n",
    "                        tokens = line.split()\n",
    "                        test_acc = float(tokens[-2])\n",
    "                        if test_record_flag:\n",
    "                            last_test_acc = test_acc\n",
    "                            test_record_flag = False\n",
    "\n",
    "            concGothr.append((best_val_acc, last_test_acc))\n",
    "        acc_matrix.append(concGothr)\n",
    "    return acc_matrix\n",
    "\n",
    "def account_acc(filename_suffix):\n",
    "    acc_matrix = []\n",
    "    for i in range(5):\n",
    "        with open('./'+filename_suffix+str(i)+'.out','r') as f:\n",
    "            best_val_acc = 0.0\n",
    "            last_test_acc = 0.0\n",
    "            test_record_flag = False\n",
    "            info = f.readlines()\n",
    "            for line in info:\n",
    "                if line.startswith('val set accuracy:'):\n",
    "                    tokens = line.split()\n",
    "                    val_acc = float(tokens[-2])\n",
    "                    if val_acc >= best_val_acc:\n",
    "                        best_val_acc = val_acc\n",
    "                        test_record_flag = True\n",
    "\n",
    "                if line.startswith('test set accuracy:'):\n",
    "                    tokens = line.split()\n",
    "                    test_acc = float(tokens[-2])\n",
    "                    if test_record_flag:\n",
    "                        last_test_acc = test_acc\n",
    "                        test_record_flag = False\n",
    "\n",
    "            acc_matrix.append((best_val_acc, last_test_acc))\n",
    "    return acc_matrix\n"
   ]
  },
  {
   "cell_type": "code",
   "execution_count": 23,
   "metadata": {
    "collapsed": false
   },
   "outputs": [
    {
     "data": {
      "text/plain": [
       "[[(81.6711590296, 70.6039551042), (80.0539083558, 71.0849812934)],\n",
       " [(80.5929919137, 72.528059861), (0.0, 0.0)],\n",
       " [(0.0, 0.0), (82.4797843666, 70.5505077499)],\n",
       " [(80.0539083558, 73.4366648851), (79.5148247978, 72.1004810262)],\n",
       " [(77.358490566, 70.4970603955), (78.4366576819, 71.9935863175)]]"
      ]
     },
     "execution_count": 23,
     "metadata": {},
     "output_type": "execute_result"
    }
   ],
   "source": [
    "atthier_acc = account_acc_hier('ATTCVHier')\n",
    "\n",
    "atthier_acc[1][1] = (0.0, 0.0)\n",
    "atthier_acc[2][0] = (0.0, 0.0)\n",
    "\n",
    "atthier_acc"
   ]
  },
  {
   "cell_type": "code",
   "execution_count": 4,
   "metadata": {
    "collapsed": false
   },
   "outputs": [
    {
     "data": {
      "text/plain": [
       "[[(81.6711590296, 72.4211651523), (80.3234501348, 70.2298236237)],\n",
       " [(80.5929919137, 71.2453233565), (82.2102425876, 71.1918760021)],\n",
       " [(81.4016172507, 72.528059861), (81.4016172507, 70.1763762694)],\n",
       " [(80.8625336927, 69.214323891), (81.9407008086, 74.7194013896)],\n",
       " [(77.0889487871, 72.8487439872), (76.5498652291, 69.6953500802)]]"
      ]
     },
     "execution_count": 4,
     "metadata": {},
     "output_type": "execute_result"
    }
   ],
   "source": [
    "nonatthier_acc = account_acc_hier('NonAttHier')\n",
    "nonatthier_acc"
   ]
  },
  {
   "cell_type": "code",
   "execution_count": 24,
   "metadata": {
    "collapsed": false
   },
   "outputs": [
    {
     "name": "stdout",
     "output_type": "stream",
     "text": [
      "79.9191374663\n",
      "80.1212938005\n"
     ]
    }
   ],
   "source": [
    "import numpy as np\n",
    "\n",
    "ave_concate_hier = np.sum(np.asarray([atthier_acc[i][0][0] for i in range(5)]))/4.0\n",
    "ave_gothrough_hier = np.sum(np.asarray([atthier_acc[i][1][0] for i in range(5)]))/4.0\n",
    "\n",
    "print ave_concate_hier\n",
    "print ave_gothrough_hier"
   ]
  },
  {
   "cell_type": "code",
   "execution_count": 10,
   "metadata": {
    "collapsed": false
   },
   "outputs": [
    {
     "name": "stdout",
     "output_type": "stream",
     "text": [
      "80.3234501348\n",
      "80.4851752022\n"
     ]
    }
   ],
   "source": [
    "\n",
    "nonatt_ave_concate_hier = np.sum(np.asarray([nonatthier_acc[i][0][0] for i in range(5)]))/5.0\n",
    "nonatt_ave_gothrough_hier = np.sum(np.asarray([nonatthier_acc[i][1][0] for i in range(5)]))/5.0\n",
    "\n",
    "print nonatt_ave_concate_hier\n",
    "print nonatt_ave_gothrough_hier"
   ]
  },
  {
   "cell_type": "code",
   "execution_count": null,
   "metadata": {
    "collapsed": false
   },
   "outputs": [],
   "source": [
    "\n"
   ]
  },
  {
   "cell_type": "code",
   "execution_count": 13,
   "metadata": {
    "collapsed": false
   },
   "outputs": [],
   "source": [
    "val_test_pair = account_acc('PlaintEnd')"
   ]
  },
  {
   "cell_type": "code",
   "execution_count": 14,
   "metadata": {
    "collapsed": false
   },
   "outputs": [
    {
     "name": "stdout",
     "output_type": "stream",
     "text": [
      "76.4420485175\n"
     ]
    }
   ],
   "source": [
    "val_acc_ls = np.asarray([val_test_pair[i][0] for i in range(5)])\n",
    "ave_acc = sum(val_acc_ls)/ 5.0\n",
    "print ave_acc"
   ]
  },
  {
   "cell_type": "code",
   "execution_count": 13,
   "metadata": {
    "collapsed": false
   },
   "outputs": [],
   "source": [
    "import cPickle as pickle\n",
    "import numpy as np\n",
    "\n",
    "with open('../../data/pickles/test_index_corpus.pkl', 'r') as f:\n",
    "    test_set = pickle.load(f)\n",
    "    test_ans = test_set[3]\n",
    "test_ans_vec = np.asarray(test_ans)"
   ]
  },
  {
   "cell_type": "code",
   "execution_count": 17,
   "metadata": {
    "collapsed": false
   },
   "outputs": [
    {
     "name": "stdout",
     "output_type": "stream",
     "text": [
      "0\n",
      "1\n",
      "2\n",
      "3\n",
      "4\n",
      "0.721539283805\n"
     ]
    }
   ],
   "source": [
    "\n",
    "five_scores = []\n",
    "for i in range(5):\n",
    "    print str(i)\n",
    "    f = open('./NonAttHier_record_matrixsequence-gothrough-DNNhinge-150x75x1-1-0.0-'+str(i)+'.pkl', 'r')\n",
    "    a = pickle.load(f)\n",
    "    f.close()\n",
    "    \n",
    "    five_scores.append(a)\n",
    "end1_scores = [five_scores[i][:,0] for i in range(5)]\n",
    "end2_scores = [five_scores[i][:,1] for i in range(5)]\n",
    "\n",
    "def concate(end_scores):\n",
    "    end_reshape = [end1.reshape((-1,1)) for end1 in end_scores]\n",
    "    end_concate = np.concatenate(end_reshape, axis = 1)\n",
    "    return end_concate\n",
    "\n",
    "end1_matrix = concate(end1_scores)\n",
    "end2_matrix = concate(end2_scores)\n",
    "\n",
    "final_end1_score = end1_matrix.sum(axis = 1).reshape((-1,1))\n",
    "final_end2_score = end2_matrix.sum(axis = 1).reshape((-1,1))\n",
    "final_decision = np.argmax(np.concatenate((final_end1_score,final_end2_score), axis = 1),axis = 1)\n",
    "\n",
    "acc = (1871.0 - np.count_nonzero((final_decision - test_ans_vec)))/ 1871.0\n",
    "print acc"
   ]
  },
  {
   "cell_type": "code",
   "execution_count": 86,
   "metadata": {
    "collapsed": false
   },
   "outputs": [],
   "source": [
    "end1_scores = [five_scores[i][:,0] for i in range(5)]\n",
    "end2_scores = [five_scores[i][:,1] for i in range(5)]"
   ]
  },
  {
   "cell_type": "code",
   "execution_count": 87,
   "metadata": {
    "collapsed": false
   },
   "outputs": [],
   "source": [
    "import numpy as np\n",
    "def concate(end_scores):\n",
    "    end_reshape = [end1.reshape((-1,1)) for end1 in end_scores]\n",
    "    end_concate = np.concatenate(end_reshape, axis = 1)\n",
    "    return end_concate\n",
    "\n",
    "end1_matrix = concate(end1_scores)\n",
    "end2_matrix = concate(end2_scores)\n"
   ]
  },
  {
   "cell_type": "code",
   "execution_count": 88,
   "metadata": {
    "collapsed": false
   },
   "outputs": [],
   "source": [
    "final_end1_score = end1_matrix.sum(axis = 1).reshape((-1,1))\n",
    "final_end2_score = end2_matrix.sum(axis = 1).reshape((-1,1))\n",
    "final_decision = np.argmax(np.concatenate((final_end1_score,final_end2_score), axis = 1),axis = 1)\n"
   ]
  },
  {
   "cell_type": "code",
   "execution_count": 3,
   "metadata": {
    "collapsed": false
   },
   "outputs": [],
   "source": [
    "import cPickle as pickle\n",
    "import numpy as np\n",
    "with open('../../data/pickles/test_index_corpus.pkl', 'r') as f:\n",
    "    test_set = pickle.load(f)\n",
    "    test_ans = test_set[3]\n",
    "test_ans_vec = np.asarray(test_ans)"
   ]
  },
  {
   "cell_type": "code",
   "execution_count": 90,
   "metadata": {
    "collapsed": true
   },
   "outputs": [],
   "source": [
    "acc = (1871.0 - np.count_nonzero((final_decision - test_ans_vec)))/ 1871.0\n"
   ]
  },
  {
   "cell_type": "code",
   "execution_count": 91,
   "metadata": {
    "collapsed": false
   },
   "outputs": [
    {
     "name": "stdout",
     "output_type": "stream",
     "text": [
      "0.663281667557\n"
     ]
    }
   ],
   "source": [
    "print acc"
   ]
  },
  {
   "cell_type": "code",
   "execution_count": 128,
   "metadata": {
    "collapsed": false
   },
   "outputs": [],
   "source": [
    "with open('./test_score_record_matrix_plaint_endlast--hinge-512x1-1-0.0-000.pkl','r') as f:\n",
    "    test_scores = pickle.load(f)\n"
   ]
  },
  {
   "cell_type": "code",
   "execution_count": 129,
   "metadata": {
    "collapsed": true
   },
   "outputs": [],
   "source": [
    "predict_answer = np.argmax(test_scores, axis = 1)\n",
    "correct_label = np.ones(1871)\n",
    "for i in xrange(1871):\n",
    "    if predict_answer[i] != test_ans_vec[i]:\n",
    "        correct_label[i] = 0\n",
    "        "
   ]
  },
  {
   "cell_type": "code",
   "execution_count": 130,
   "metadata": {
    "collapsed": false
   },
   "outputs": [
    {
     "name": "stdout",
     "output_type": "stream",
     "text": [
      "0.697487974345\n"
     ]
    }
   ],
   "source": [
    "acc = np.sum(correct_label)/1871.0\n",
    "print acc"
   ]
  },
  {
   "cell_type": "code",
   "execution_count": 131,
   "metadata": {
    "collapsed": false
   },
   "outputs": [],
   "source": [
    "# retrieve correct classified scores \n",
    "right_classify_scores = []\n",
    "faulse_classify_scores = []\n",
    "for i in range(1871):\n",
    "    if predict_answer[i] == test_ans_vec[i]:\n",
    "        right_classify_scores.append([i,test_scores[i]])\n",
    "    else:\n",
    "        faulse_classify_scores.append([i,test_scores[i]])"
   ]
  },
  {
   "cell_type": "code",
   "execution_count": 132,
   "metadata": {
    "collapsed": true
   },
   "outputs": [],
   "source": [
    "index_vec = np.arange(1871).reshape((1871, 1))\n",
    "answer_vec = test_ans_vec.reshape((1871, 1))\n",
    "predic_vec = predict_answer.reshape((1871, 1))\n",
    "correct_vec = correct_label.reshape((1871,1))"
   ]
  },
  {
   "cell_type": "code",
   "execution_count": 133,
   "metadata": {
    "collapsed": false
   },
   "outputs": [],
   "source": [
    "big_score_matrix = np.concatenate([index_vec, test_scores, predic_vec, answer_vec, correct_vec], axis = 1)"
   ]
  },
  {
   "cell_type": "code",
   "execution_count": 134,
   "metadata": {
    "collapsed": false
   },
   "outputs": [
    {
     "name": "stdout",
     "output_type": "stream",
     "text": [
      "[[ 0.         -0.02268939  0.26555426  1.          1.          1.        ]\n",
      " [ 1.          0.36979881  0.60613192  1.          0.          0.        ]\n",
      " [ 2.          0.60118569 -0.92172158  0.          1.          0.        ]\n",
      " [ 3.          0.7622604   0.99312969  1.          1.          1.        ]\n",
      " [ 4.          0.97404977 -0.38604876  0.          0.          1.        ]\n",
      " [ 5.         -0.53695388 -0.29275038  1.          0.          0.        ]\n",
      " [ 6.          0.5844534   0.88971448  1.          0.          0.        ]\n",
      " [ 7.         -0.26619499  0.99529875  1.          1.          1.        ]\n",
      " [ 8.         -0.4218886   0.90821223  1.          1.          1.        ]\n",
      " [ 9.          0.45760338  0.42673224  0.          1.          0.        ]]\n"
     ]
    }
   ],
   "source": [
    "print big_score_matrix[:10]"
   ]
  },
  {
   "cell_type": "code",
   "execution_count": 135,
   "metadata": {
    "collapsed": false
   },
   "outputs": [],
   "source": [
    "single_score_end_matrix = np.zeros((1871*2, 3))\n",
    "for i in range(1871):\n",
    "    single_score_end_matrix[i*2][0] = i\n",
    "    single_score_end_matrix[i*2+1][0] = i+0.1\n",
    "    single_score_end_matrix[i*2][1] = big_score_matrix[i][1]\n",
    "    single_score_end_matrix[i*2+1][1] = big_score_matrix[i][2]\n",
    "    single_score_end_matrix[i*2][2] = correct_label[i]\n",
    "    single_score_end_matrix[i*2+1][2] = correct_label[i]"
   ]
  },
  {
   "cell_type": "code",
   "execution_count": 136,
   "metadata": {
    "collapsed": false
   },
   "outputs": [
    {
     "name": "stdout",
     "output_type": "stream",
     "text": [
      "[[  0.00000000e+00  -2.26893908e-02   1.00000000e+00]\n",
      " [  1.00000000e-01   2.65554260e-01   1.00000000e+00]\n",
      " [  1.00000000e+00   3.69798808e-01   0.00000000e+00]\n",
      " [  1.10000000e+00   6.06131915e-01   0.00000000e+00]\n",
      " [  2.00000000e+00   6.01185687e-01   0.00000000e+00]\n",
      " [  2.10000000e+00  -9.21721578e-01   0.00000000e+00]\n",
      " [  3.00000000e+00   7.62260402e-01   1.00000000e+00]\n",
      " [  3.10000000e+00   9.93129686e-01   1.00000000e+00]\n",
      " [  4.00000000e+00   9.74049769e-01   1.00000000e+00]\n",
      " [  4.10000000e+00  -3.86048757e-01   1.00000000e+00]\n",
      " [  5.00000000e+00  -5.36953880e-01   0.00000000e+00]\n",
      " [  5.10000000e+00  -2.92750378e-01   0.00000000e+00]\n",
      " [  6.00000000e+00   5.84453405e-01   0.00000000e+00]\n",
      " [  6.10000000e+00   8.89714479e-01   0.00000000e+00]\n",
      " [  7.00000000e+00  -2.66194994e-01   1.00000000e+00]\n",
      " [  7.10000000e+00   9.95298753e-01   1.00000000e+00]\n",
      " [  8.00000000e+00  -4.21888601e-01   1.00000000e+00]\n",
      " [  8.10000000e+00   9.08212229e-01   1.00000000e+00]\n",
      " [  9.00000000e+00   4.57603381e-01   0.00000000e+00]\n",
      " [  9.10000000e+00   4.26732239e-01   0.00000000e+00]\n",
      " [  1.00000000e+01  -4.14774661e-01   0.00000000e+00]\n",
      " [  1.01000000e+01   7.24931904e-01   0.00000000e+00]\n",
      " [  1.10000000e+01   5.44805234e-01   0.00000000e+00]\n",
      " [  1.11000000e+01   9.65868981e-01   0.00000000e+00]\n",
      " [  1.20000000e+01   7.61706726e-01   0.00000000e+00]\n",
      " [  1.21000000e+01   5.37567380e-01   0.00000000e+00]\n",
      " [  1.30000000e+01   9.46772476e-01   1.00000000e+00]\n",
      " [  1.31000000e+01   2.60407989e-01   1.00000000e+00]\n",
      " [  1.40000000e+01  -6.74018825e-01   1.00000000e+00]\n",
      " [  1.41000000e+01   7.81614150e-01   1.00000000e+00]\n",
      " [  1.50000000e+01   9.32757622e-01   1.00000000e+00]\n",
      " [  1.51000000e+01   9.57918994e-01   1.00000000e+00]\n",
      " [  1.60000000e+01   2.14897520e-01   1.00000000e+00]\n",
      " [  1.61000000e+01   9.89921995e-01   1.00000000e+00]\n",
      " [  1.70000000e+01   2.34074722e-01   1.00000000e+00]\n",
      " [  1.71000000e+01  -5.35900816e-01   1.00000000e+00]\n",
      " [  1.80000000e+01   8.71434782e-01   0.00000000e+00]\n",
      " [  1.81000000e+01   4.98580050e-02   0.00000000e+00]\n",
      " [  1.90000000e+01  -9.38194171e-01   1.00000000e+00]\n",
      " [  1.91000000e+01  -2.04748745e-01   1.00000000e+00]\n",
      " [  2.00000000e+01  -6.24009867e-02   1.00000000e+00]\n",
      " [  2.01000000e+01   6.65761409e-01   1.00000000e+00]\n",
      " [  2.10000000e+01   8.44604621e-01   0.00000000e+00]\n",
      " [  2.11000000e+01   8.13254783e-01   0.00000000e+00]\n",
      " [  2.20000000e+01  -9.29368892e-01   1.00000000e+00]\n",
      " [  2.21000000e+01  -6.49992576e-01   1.00000000e+00]\n",
      " [  2.30000000e+01   7.55096976e-01   1.00000000e+00]\n",
      " [  2.31000000e+01  -9.65351976e-01   1.00000000e+00]\n",
      " [  2.40000000e+01   7.40433070e-01   0.00000000e+00]\n",
      " [  2.41000000e+01   9.99990299e-01   0.00000000e+00]\n",
      " [  2.50000000e+01  -9.73686244e-01   1.00000000e+00]\n",
      " [  2.51000000e+01   6.04768162e-01   1.00000000e+00]\n",
      " [  2.60000000e+01   6.25687891e-01   1.00000000e+00]\n",
      " [  2.61000000e+01   9.94096942e-01   1.00000000e+00]\n",
      " [  2.70000000e+01  -8.73732694e-01   0.00000000e+00]\n",
      " [  2.71000000e+01  -9.87466086e-01   0.00000000e+00]\n",
      " [  2.80000000e+01   9.99995107e-01   1.00000000e+00]\n",
      " [  2.81000000e+01   5.18805446e-01   1.00000000e+00]\n",
      " [  2.90000000e+01   9.76856015e-01   1.00000000e+00]\n",
      " [  2.91000000e+01   9.10161541e-01   1.00000000e+00]\n",
      " [  3.00000000e+01   9.94961624e-01   1.00000000e+00]\n",
      " [  3.01000000e+01  -5.56556434e-01   1.00000000e+00]\n",
      " [  3.10000000e+01   8.63793634e-01   0.00000000e+00]\n",
      " [  3.11000000e+01   6.28132421e-01   0.00000000e+00]\n",
      " [  3.20000000e+01  -2.99398598e-01   0.00000000e+00]\n",
      " [  3.21000000e+01   9.99991544e-01   0.00000000e+00]\n",
      " [  3.30000000e+01   1.93562796e-02   0.00000000e+00]\n",
      " [  3.31000000e+01   9.93904706e-01   0.00000000e+00]\n",
      " [  3.40000000e+01  -9.62470255e-01   1.00000000e+00]\n",
      " [  3.41000000e+01   6.69333999e-01   1.00000000e+00]\n",
      " [  3.50000000e+01  -7.89510415e-01   1.00000000e+00]\n",
      " [  3.51000000e+01  -9.64629425e-01   1.00000000e+00]\n",
      " [  3.60000000e+01  -9.21329455e-01   1.00000000e+00]\n",
      " [  3.61000000e+01   6.82462462e-01   1.00000000e+00]\n",
      " [  3.70000000e+01  -5.14164067e-01   1.00000000e+00]\n",
      " [  3.71000000e+01  -5.11166547e-02   1.00000000e+00]\n",
      " [  3.80000000e+01  -5.82594819e-01   0.00000000e+00]\n",
      " [  3.81000000e+01  -2.52971785e-01   0.00000000e+00]\n",
      " [  3.90000000e+01   8.68019746e-01   1.00000000e+00]\n",
      " [  3.91000000e+01  -4.47412337e-01   1.00000000e+00]\n",
      " [  4.00000000e+01   9.96781518e-01   1.00000000e+00]\n",
      " [  4.01000000e+01   9.98736920e-01   1.00000000e+00]\n",
      " [  4.10000000e+01   8.33973809e-01   0.00000000e+00]\n",
      " [  4.11000000e+01  -2.21781284e-01   0.00000000e+00]\n",
      " [  4.20000000e+01   6.11973165e-01   1.00000000e+00]\n",
      " [  4.21000000e+01   8.99848325e-01   1.00000000e+00]\n",
      " [  4.30000000e+01   9.32446687e-01   1.00000000e+00]\n",
      " [  4.31000000e+01   9.83772930e-01   1.00000000e+00]\n",
      " [  4.40000000e+01   8.75158292e-01   0.00000000e+00]\n",
      " [  4.41000000e+01   9.98422538e-01   0.00000000e+00]\n",
      " [  4.50000000e+01  -9.87732075e-01   1.00000000e+00]\n",
      " [  4.51000000e+01   1.39004660e-02   1.00000000e+00]\n",
      " [  4.60000000e+01   7.25495933e-01   0.00000000e+00]\n",
      " [  4.61000000e+01   8.02237402e-01   0.00000000e+00]\n",
      " [  4.70000000e+01   9.99250228e-01   1.00000000e+00]\n",
      " [  4.71000000e+01  -7.70395722e-01   1.00000000e+00]\n",
      " [  4.80000000e+01   3.07859007e-01   0.00000000e+00]\n",
      " [  4.81000000e+01   7.69321543e-01   0.00000000e+00]\n",
      " [  4.90000000e+01   4.82558230e-01   0.00000000e+00]\n",
      " [  4.91000000e+01   8.43142608e-01   0.00000000e+00]]\n"
     ]
    }
   ],
   "source": [
    "print single_score_end_matrix[:100]"
   ]
  },
  {
   "cell_type": "code",
   "execution_count": 137,
   "metadata": {
    "collapsed": false
   },
   "outputs": [],
   "source": [
    "sorted_score_matrix = single_score_end_matrix[(-single_score_end_matrix[:,1]).argsort()]"
   ]
  },
  {
   "cell_type": "code",
   "execution_count": 138,
   "metadata": {
    "collapsed": false
   },
   "outputs": [
    {
     "data": {
      "text/plain": [
       "array([[  6.49100000e+02,   9.99999992e-01,   1.00000000e+00],\n",
       "       [  8.81000000e+02,   9.99999962e-01,   1.00000000e+00],\n",
       "       [  1.78400000e+03,   9.99999959e-01,   1.00000000e+00],\n",
       "       [  1.38800000e+03,   9.99999956e-01,   1.00000000e+00],\n",
       "       [  1.31700000e+03,   9.99999919e-01,   0.00000000e+00],\n",
       "       [  8.41000000e+02,   9.99999902e-01,   1.00000000e+00],\n",
       "       [  3.08000000e+02,   9.99999899e-01,   1.00000000e+00],\n",
       "       [  1.94000000e+02,   9.99999892e-01,   1.00000000e+00],\n",
       "       [  8.10100000e+02,   9.99999884e-01,   1.00000000e+00],\n",
       "       [  1.55700000e+03,   9.99999849e-01,   1.00000000e+00],\n",
       "       [  1.39310000e+03,   9.99999820e-01,   1.00000000e+00],\n",
       "       [  4.14000000e+02,   9.99999717e-01,   1.00000000e+00],\n",
       "       [  1.54310000e+03,   9.99999679e-01,   0.00000000e+00],\n",
       "       [  1.18500000e+03,   9.99999670e-01,   1.00000000e+00],\n",
       "       [  1.81000000e+02,   9.99999651e-01,   1.00000000e+00],\n",
       "       [  3.47100000e+02,   9.99999642e-01,   0.00000000e+00],\n",
       "       [  9.81000000e+01,   9.99999640e-01,   1.00000000e+00],\n",
       "       [  1.02800000e+03,   9.99999614e-01,   1.00000000e+00],\n",
       "       [  1.66800000e+03,   9.99999551e-01,   1.00000000e+00],\n",
       "       [  3.77100000e+02,   9.99999532e-01,   1.00000000e+00],\n",
       "       [  1.73610000e+03,   9.99999386e-01,   1.00000000e+00],\n",
       "       [  7.39000000e+02,   9.99999364e-01,   1.00000000e+00],\n",
       "       [  1.60110000e+03,   9.99999304e-01,   0.00000000e+00],\n",
       "       [  2.03100000e+02,   9.99999251e-01,   0.00000000e+00],\n",
       "       [  1.69100000e+02,   9.99999235e-01,   1.00000000e+00],\n",
       "       [  9.56000000e+02,   9.99999158e-01,   1.00000000e+00],\n",
       "       [  6.65000000e+02,   9.99999103e-01,   1.00000000e+00],\n",
       "       [  1.80310000e+03,   9.99998967e-01,   0.00000000e+00],\n",
       "       [  2.21000000e+02,   9.99998965e-01,   1.00000000e+00],\n",
       "       [  4.23000000e+02,   9.99998897e-01,   0.00000000e+00],\n",
       "       [  8.73100000e+02,   9.99998870e-01,   1.00000000e+00],\n",
       "       [  6.10000000e+01,   9.99998865e-01,   0.00000000e+00],\n",
       "       [  1.38110000e+03,   9.99998786e-01,   0.00000000e+00],\n",
       "       [  1.11100000e+03,   9.99998719e-01,   1.00000000e+00],\n",
       "       [  3.56000000e+02,   9.99998690e-01,   1.00000000e+00],\n",
       "       [  9.06000000e+02,   9.99998628e-01,   1.00000000e+00],\n",
       "       [  7.57000000e+02,   9.99998518e-01,   0.00000000e+00],\n",
       "       [  1.85500000e+03,   9.99998515e-01,   1.00000000e+00],\n",
       "       [  1.62210000e+03,   9.99998452e-01,   1.00000000e+00],\n",
       "       [  1.29400000e+03,   9.99998404e-01,   0.00000000e+00],\n",
       "       [  1.83900000e+03,   9.99998347e-01,   0.00000000e+00],\n",
       "       [  1.89000000e+02,   9.99998206e-01,   1.00000000e+00],\n",
       "       [  6.61000000e+01,   9.99998153e-01,   0.00000000e+00],\n",
       "       [  9.03000000e+02,   9.99998141e-01,   1.00000000e+00],\n",
       "       [  7.70000000e+02,   9.99997924e-01,   0.00000000e+00],\n",
       "       [  1.72900000e+03,   9.99997892e-01,   1.00000000e+00],\n",
       "       [  7.59000000e+02,   9.99997804e-01,   1.00000000e+00],\n",
       "       [  6.85100000e+02,   9.99997774e-01,   1.00000000e+00],\n",
       "       [  1.33510000e+03,   9.99997290e-01,   1.00000000e+00],\n",
       "       [  1.54300000e+03,   9.99997096e-01,   0.00000000e+00],\n",
       "       [  9.39100000e+02,   9.99996589e-01,   1.00000000e+00],\n",
       "       [  1.54100000e+03,   9.99996238e-01,   1.00000000e+00],\n",
       "       [  1.45210000e+03,   9.99996177e-01,   1.00000000e+00],\n",
       "       [  1.65700000e+03,   9.99996155e-01,   0.00000000e+00],\n",
       "       [  4.69000000e+02,   9.99996144e-01,   0.00000000e+00],\n",
       "       [  7.36100000e+02,   9.99996033e-01,   0.00000000e+00],\n",
       "       [  4.83100000e+02,   9.99995932e-01,   1.00000000e+00],\n",
       "       [  1.17200000e+03,   9.99995894e-01,   0.00000000e+00],\n",
       "       [  1.76700000e+03,   9.99995733e-01,   0.00000000e+00],\n",
       "       [  1.04510000e+03,   9.99995336e-01,   1.00000000e+00],\n",
       "       [  1.70700000e+03,   9.99995221e-01,   1.00000000e+00],\n",
       "       [  1.43300000e+03,   9.99995179e-01,   1.00000000e+00],\n",
       "       [  2.80000000e+01,   9.99995107e-01,   1.00000000e+00],\n",
       "       [  1.74500000e+03,   9.99994395e-01,   0.00000000e+00],\n",
       "       [  1.19600000e+03,   9.99993846e-01,   1.00000000e+00],\n",
       "       [  7.20000000e+01,   9.99993696e-01,   0.00000000e+00],\n",
       "       [  8.94000000e+02,   9.99993465e-01,   1.00000000e+00],\n",
       "       [  2.58100000e+02,   9.99993349e-01,   0.00000000e+00],\n",
       "       [  7.42100000e+02,   9.99992590e-01,   0.00000000e+00],\n",
       "       [  3.61100000e+02,   9.99991884e-01,   1.00000000e+00],\n",
       "       [  3.21000000e+01,   9.99991544e-01,   0.00000000e+00],\n",
       "       [  6.05000000e+02,   9.99991429e-01,   0.00000000e+00],\n",
       "       [  1.13000000e+02,   9.99991425e-01,   1.00000000e+00],\n",
       "       [  1.65400000e+03,   9.99991417e-01,   1.00000000e+00],\n",
       "       [  1.19610000e+03,   9.99990891e-01,   1.00000000e+00],\n",
       "       [  6.63000000e+02,   9.99990498e-01,   1.00000000e+00],\n",
       "       [  2.41000000e+01,   9.99990299e-01,   0.00000000e+00],\n",
       "       [  1.63310000e+03,   9.99990119e-01,   0.00000000e+00],\n",
       "       [  1.91000000e+02,   9.99988218e-01,   1.00000000e+00],\n",
       "       [  1.68300000e+03,   9.99987115e-01,   1.00000000e+00],\n",
       "       [  9.74000000e+02,   9.99986307e-01,   0.00000000e+00],\n",
       "       [  1.14110000e+03,   9.99986107e-01,   0.00000000e+00],\n",
       "       [  1.03410000e+03,   9.99983907e-01,   1.00000000e+00],\n",
       "       [  1.48300000e+03,   9.99982985e-01,   1.00000000e+00],\n",
       "       [  1.13100000e+02,   9.99979271e-01,   1.00000000e+00],\n",
       "       [  2.77000000e+02,   9.99977442e-01,   1.00000000e+00],\n",
       "       [  1.86510000e+03,   9.99975023e-01,   1.00000000e+00],\n",
       "       [  1.66400000e+03,   9.99971283e-01,   1.00000000e+00],\n",
       "       [  1.38410000e+03,   9.99970671e-01,   1.00000000e+00],\n",
       "       [  1.59800000e+03,   9.99970665e-01,   1.00000000e+00],\n",
       "       [  1.67800000e+03,   9.99970183e-01,   1.00000000e+00],\n",
       "       [  1.06500000e+03,   9.99967962e-01,   0.00000000e+00],\n",
       "       [  5.63100000e+02,   9.99967473e-01,   1.00000000e+00],\n",
       "       [  1.29410000e+03,   9.99967304e-01,   0.00000000e+00],\n",
       "       [  1.77800000e+03,   9.99965665e-01,   1.00000000e+00],\n",
       "       [  6.38000000e+02,   9.99965208e-01,   1.00000000e+00],\n",
       "       [  1.02310000e+03,   9.99963938e-01,   1.00000000e+00],\n",
       "       [  1.21700000e+03,   9.99963166e-01,   1.00000000e+00],\n",
       "       [  6.96100000e+02,   9.99957530e-01,   0.00000000e+00],\n",
       "       [  9.73100000e+02,   9.99948985e-01,   1.00000000e+00]])"
      ]
     },
     "execution_count": 138,
     "metadata": {},
     "output_type": "execute_result"
    }
   ],
   "source": [
    "sorted_score_matrix[:100]"
   ]
  },
  {
   "cell_type": "code",
   "execution_count": 155,
   "metadata": {
    "collapsed": false
   },
   "outputs": [
    {
     "name": "stdout",
     "output_type": "stream",
     "text": [
      "<s> a couple of days later , i started to feel better , thank god ! </s> 0.999999991781 1.0\n",
      "<s> the man quickly tried to round them all up , but it was difficult . </s> 0.999999961746 1.0\n",
      "<s> she got a good grade on the report and raised her math grade . </s> 0.999999959422 1.0\n",
      "<s> her friends had been trying to tell gina they 'd had a baby ! </s> 0.999999955667 1.0\n",
      "<s> i feel like i 'm living a dream come true , thanks to chicago ! </s> 0.999999918673 0.0\n",
      "<s> it created such a mess , maybe it was n't worth saving the money . </s> 0.999999901555 1.0\n",
      "<s> june cried herself to sleep and woke up hungry in the morning . </s> 0.9999998992 1.0\n",
      "<s> she saved enough money to buy a cell phone on her own . </s> 0.999999892225 1.0\n",
      "<s> sue was upset to learn that she had messed up the recipe . </s> 0.999999883771 1.0\n",
      "<s> he tried out for the team again and this time , he made it . </s> 0.999999848958 1.0\n",
      "<s> the speaker was able to give her all of the answers she needed . </s> 0.999999819626 1.0\n",
      "<s> just then , a large cruise ship passed and he was rescued . </s> 0.999999717018 1.0\n",
      "<s> jan was excited to see dirt and dung fly into her mom 's mouth . </s> 0.999999678824 0.0\n",
      "<s> she was happy to find a rare album she had been looking for . </s> 0.999999670163 1.0\n",
      "<s> i 'm sure i 'll figure out a place for it eventually . </s> 0.999999651169 1.0\n",
      "<s> after that he gave up and bought a new one , without ever knowing . </s> 0.999999642164 0.0\n",
      "<s> finally sal got to the next level with the help of his cousin . </s> 0.999999639637 1.0\n",
      "<s> she had to ask a doctor to take the toenail out of her foot . </s> 0.999999613797 1.0\n",
      "<s> her dad smiled because gina had done a meticulous job this time . </s> 0.999999550843 1.0\n",
      "<s> my brother and i have so much fun we made plans to go again . </s> 0.99999953193 1.0\n",
      "<s> she bought a second piggy bank so she could keep saving money . </s> 0.999999386467 1.0\n",
      "<s> the seller accepted and john was the proud owner of a new home ! </s> 0.99999936399 1.0\n",
      "<s> susan got rid of her other dog when she got a new puppy . </s> 0.999999303823 0.0\n",
      "<s> the shark in the boat swung his head around and bit his leg . </s> 0.999999251332 0.0\n",
      "<s> andrew said that he was going to have to find a new career . </s> 0.99999923514 1.0\n",
      "<s> they were pleased with the cake the next day when they picked it . </s> 0.999999157714 1.0\n",
      "<s> billy 's brand of apples became a success thanks to his passion . </s> 0.999999103216 1.0\n",
      "<s> after one look , she did n't look at it for the rest of the night . </s> 0.999998967161 0.0\n",
      "<s> a new spot had opened up and kayla could be in the show . </s> 0.999998964867 1.0\n",
      "<s> craig calls the person back and tells them to stop harassing him . </s> 0.999998896861 0.0\n",
      "<s> she rolled her eyes as her folks rejoiced at all the neat things . </s> 0.999998869685 1.0\n",
      "<s> she had been away on a trip in alaska for some time . </s> 0.999998865304 0.0\n",
      "<s> despite his dedication , he gave eating well up and never lost it . </s> 0.999998786004 0.0\n",
      "<s> my friends and i had a lot of fun playing and then went home . </s> 0.999998719301 1.0\n",
      "<s> when it was done he put in some butter and ate it . </s> 0.999998690328 1.0\n",
      "<s> luckily gina 's dad managed to get into the car and hit the brakes . </s> 0.999998628209 1.0\n",
      "<s> sadie and her friend went to see the new star wars movie . </s> 0.999998518291 0.0\n",
      "<s> there were , and i bought food and then went home . </s> 0.999998515056 1.0\n",
      "<s> when jake got to his family he was happy his trip was over . </s> 0.999998451925 1.0\n",
      "<s> if i do n't get a better job soon , i 'll be bankrupt . </s> 0.999998404056 0.0\n",
      "<s> tom gave the clocks to his sister who was always late for work . </s> 0.999998346767 0.0\n",
      "<s> i was so happy when i made it back to my house . </s> 0.999998206459 1.0\n",
      "<s> ellie cried both times because she did n't want to ride the ride . </s> 0.99999815272 0.0\n",
      "<s> as she walked , miranda decided to go to bed early from now on . </s> 0.999998141139 1.0\n",
      "<s> jake was unable to get into college because of his act score . </s> 0.999997923673 0.0\n",
      "<s> she spat it out because she had been served a spoiled fish taco . </s> 0.999997892355 1.0\n",
      "<s> lou met bex and wondered if he had made the right choice . </s> 0.999997804349 1.0\n",
      "<s> bob was able to wear his glasses again after getting them fixed . </s> 0.999997774013 1.0\n",
      "<s> greg apologized and moved on to meet other girls at the party . </s> 0.99999729001 1.0\n",
      "<s> jan 's mom quickly ducked , so the dirt and dung missed her face . </s> 0.99999709575 0.0\n",
      "<s> i went outside and sprayed them with the hose when they followed . </s> 0.999996588645 1.0\n",
      "<s> faye 's friend offered a loan as she waited for the aid to arrive . </s> 0.999996237871 1.0\n",
      "<s> when gina looked at the clock , she saw she had wasted an hour . </s> 0.999996176993 1.0\n",
      "<s> he was very happy that the program took that amount of time . </s> 0.999996155115 0.0\n",
      "<s> i heard on the news that night they sent the kidnapper to prison . </s> 0.999996143628 0.0\n",
      "<s> he was accepted at an early age in the academy for the blind . </s> 0.99999603309 0.0\n",
      "<s> by the end of it she was in tears and being held down . </s> 0.999995931737 1.0\n",
      "<s> alice did n't know to give her baby a boy or girl name . </s> 0.999995894216 0.0\n",
      "<s> my mother left the casserole in the oven too long and it burned . </s> 0.999995733259 0.0\n",
      "<s> when she was done eating , she went to the restroom to clean up . </s> 0.999995335572 1.0\n",
      "<s> he did very well in the job and they really liked him there . </s> 0.999995220962 1.0\n",
      "<s> tom ca n't wait until the next time he can go on a whale watch . </s> 0.999995179176 1.0\n",
      "<s> he was near death for sure , he would be gone before night 's end . </s> 0.999995106682 1.0\n",
      "<s> she asks her friends to help her take the mirror to the dump . </s> 0.999994395171 0.0\n",
      "<s> tina saved enough on the bag to pay for the flight to paris . </s> 0.999993846206 1.0\n",
      "<s> i was not happy to hear from her so we broke up . </s> 0.999993696075 0.0\n",
      "<s> later , once tia 's kids were used to the taste , they acclimated . </s> 0.999993465419 1.0\n",
      "<s> when gina went home she told her mom what a great day she had . </s> 0.999993349338 0.0\n",
      "<s> henry was excited when he found out he had to wear dirty pants . </s> 0.999992589776 0.0\n",
      "<s> when she got home from the park , gina was too tired to work . </s> 0.999991883534 1.0\n",
      "<s> i was hit in the face with a football and got a black eye . </s> 0.999991544359 0.0\n",
      "<s> she sent him a text asking if he wanted to see a movie . </s> 0.999991428674 0.0\n",
      "<s> so , mary decided to walk to work rather than wait for the bus . </s> 0.999991425361 1.0\n",
      "<s> chuck knew he needed a walk so he talk his dogs out . </s> 0.999991417351 1.0\n",
      "<s> tina was not going to fly to paris just to buy a handbag . </s> 0.999990891065 1.0\n",
      "<s> no one made fun of jamie and her love of baseball again . </s> 0.999990498264 1.0\n",
      "<s> at the end of the summer i gave the money back to my parents . </s> 0.999990299162 0.0\n",
      "<s> i had such a horrible time i never went out with them again . </s> 0.999990119382 0.0\n",
      "<s> tom decided to buy more racing games to enjoy the wheel with . </s> 0.999988217814 1.0\n",
      "<s> sam stayed at the bar rather than go home and be surprised . </s> 0.999987114843 1.0\n",
      "<s> i used the shovel to get rid of the rest of my chickens . </s> 0.999986307469 0.0\n",
      "<s> gina climbed into her grandma 's bed , and went to sleep . </s> 0.999986107314 0.0\n",
      "<s> she wrote the food network to see if she could go on the show . </s> 0.999983907129 1.0\n",
      "<s> they gave me a refund for the case , but not the phone . </s> 0.999982985478 1.0\n",
      "<s> so , mary decided to go get a coffee rather than wait for the bus . </s> 0.9999792707 1.0\n",
      "<s> now , playing or seeing baseball on tv reminds me of my father . </s> 0.999977442469 1.0\n",
      "<s> it took 4 hours for his car to cool off so he could go home . </s> 0.999975022723 1.0\n",
      "<s> megan 's coworker was angry that she lied about eating her cake . </s> 0.999971283429 1.0\n",
      "<s> the man with the gun was unnerved by anthony 's praying and left . </s> 0.999970671051 1.0\n",
      "<s> after all of his work , he had very tasty french fries to eat . </s> 0.999970665405 1.0\n",
      "<s> he was overjoyed when his wife told him that she was pregnant . </s> 0.999970182935 1.0\n",
      "<s> ted was happy when he found the money the tooth fairy left him . </s> 0.999967961901 0.0\n",
      "<s> with the bumper in his trunk , bob made it to his parent 's house . </s> 0.999967472807 1.0\n",
      "<s> i enjoy it so much , it does n't even feel like work . </s> 0.99996730438 0.0\n",
      "<s> my sister was very grateful and took us both out for ice cream . </s> 0.999965665086 1.0\n",
      "<s> trisha made the child sleep on the kitchen floor with UUNKNOWNN a blanket . </s> 0.99996520774 1.0\n",
      "<s> at the end of the day , danny and his grandpa flew the kite . </s> 0.99996393771 1.0\n",
      "<s> his parents made him go to school , and he got an f in science . </s> 0.999963166325 1.0\n",
      "<s> jilly was insulted that he would say such a thing to her . </s> 0.999957530353 0.0\n",
      "<s> he had to take his medicine as prescribed , or it would n't work . </s> 0.999948985137 1.0\n",
      "0.67\n",
      "16.12\n"
     ]
    }
   ],
   "source": [
    "end1 = test_set[1]\n",
    "end2 = test_set[2]\n",
    "\n",
    "with open('../../data/pickles/index2word_dict.pkl') as f:\n",
    "    index2word_dict = pickle.load(f)\n",
    "def index2word(sent):\n",
    "    sent_text = []\n",
    "    for index in sent:\n",
    "        sent_text.append(index2word_dict[index])\n",
    "    sent_str = \" \".join(sent_text)\n",
    "    return sent_str\n",
    "\n",
    "#show the top 50 scoring endings\n",
    "print_out_num = 100\n",
    "correct_count = 0\n",
    "ave_len = 0.0\n",
    "for i in xrange(print_out_num):\n",
    "    index = int(sorted_score_matrix[i][0])\n",
    "    ends = int(sorted_score_matrix[i][0]*10) % 10\n",
    "    if ends == 0:\n",
    "        end_text = end1[index]\n",
    "    else:\n",
    "        end_text = end2[index]\n",
    "    if int(sorted_score_matrix[i][2]) == 1:\n",
    "        correct_count += 1\n",
    "    ave_len += len(end_text)\n",
    "    print index2word(end_text), sorted_score_matrix[i][1] , sorted_score_matrix[i][2]\n",
    "print correct_count / float(print_out_num)\n",
    "print ave_len / print_out_num\n",
    "#show the bottom 50 scoring endings"
   ]
  },
  {
   "cell_type": "code",
   "execution_count": 156,
   "metadata": {
    "collapsed": false
   },
   "outputs": [
    {
     "name": "stdout",
     "output_type": "stream",
     "text": [
      "<s> he had caught an old boot . </s> 0.630430510838 1.0\n",
      "<s> he soon had to find a house to move to . </s> 0.630266157442 1.0\n",
      "<s> jill was not well rehearsed enough and performed poorly . </s> 0.63011840427 0.0\n",
      "<s> i had run out of milk . </s> 0.629574642911 1.0\n",
      "<s> he has to go to the store on sundays for new socks . </s> 0.629041139105 1.0\n",
      "<s> the baby then crawled around the home . </s> 0.628552382892 1.0\n",
      "<s> jill and her dad took both kittens home . </s> 0.628132420553 0.0\n",
      "<s> charles lost interest in sherry when she became self supporting . </s> 0.627498638387 1.0\n",
      "<s> the teacher yelled at the girl who had tripped . </s> 0.627078205419 1.0\n",
      "<s> felicia expected to lose her job the next day . </s> 0.626856741204 1.0\n",
      "<s> the poor puppy was hit by a car . </s> 0.626850691851 1.0\n",
      "<s> the whole family enjoyed the experience . </s> 0.626744776444 1.0\n",
      "<s> jim was angry . </s> 0.626220344988 1.0\n",
      "<s> amy then purchased them from the store . </s> 0.625714649916 1.0\n",
      "<s> miles got up and walked away . </s> 0.625687890615 1.0\n",
      "<s> lauren was excited about going out to lunch soon . </s> 0.625527469757 1.0\n",
      "<s> maddie could n't wait for max to meet her family . </s> 0.625371529715 0.0\n",
      "<s> i walked toward her and screamed in her face for being rude . </s> 0.624235808232 1.0\n",
      "<s> gina was able to breath freely . </s> 0.624129304075 0.0\n",
      "<s> walter had to cancel his plans . </s> 0.623763044348 0.0\n",
      "<s> tim was glad to have somewhere to stay . </s> 0.623544681081 0.0\n",
      "<s> i gave him the right number and hung up . </s> 0.623071772163 1.0\n",
      "<s> i will always cherish that day . </s> 0.622757532048 1.0\n",
      "<s> keith was happy because he got a new bike . </s> 0.622725497804 0.0\n",
      "<s> bob started running . </s> 0.621784957159 1.0\n",
      "<s> the chipmunk was so terrified it bit ed 's hand . </s> 0.61928648823 1.0\n",
      "<s> may won the game . </s> 0.617820445445 1.0\n",
      "<s> rachel had a great day . </s> 0.616578219308 1.0\n",
      "<s> jim re - attached the training wheels . </s> 0.615100862311 0.0\n",
      "<s> she realized she was going to like the school . </s> 0.614747129757 0.0\n",
      "<s> her best friend felt angry . </s> 0.611973164952 1.0\n",
      "<s> gina was glad to get the attention she desired . </s> 0.611373587191 0.0\n",
      "<s> my brother then demanded the candy back . </s> 0.611356912894 1.0\n",
      "<s> tom was elated for his girlfriend . </s> 0.611069908461 0.0\n",
      "<s> laurie was glad the police came quickly . </s> 0.610979692267 1.0\n",
      "<s> aspen did n't care if she worried her future husband . </s> 0.610708224079 0.0\n",
      "<s> gertrude decides her husband may like the leopard print dress . </s> 0.60772954814 1.0\n",
      "<s> it reminded me of how much i loved spring flowers . </s> 0.606131915247 0.0\n",
      "<s> felipe visited germany again later in his life . </s> 0.604768161904 1.0\n",
      "<s> he played the game until he had finished every level . </s> 0.60387670287 1.0\n",
      "<s> from then on , i felt more confident playing football . </s> 0.60220184102 0.0\n",
      "<s> ella was mad because her boyfriend was so critical . </s> 0.60153724949 0.0\n",
      "<s> avery thought her children would be happy with her decision . </s> 0.601185687026 0.0\n",
      "<s> tay had much more time to do things outside the house . </s> 0.600293652746 1.0\n",
      "<s> brenda started to compete after joining the team . </s> 0.599311039792 1.0\n",
      "<s> it was the best apple juice that they had ever had . </s> 0.598403206486 1.0\n",
      "<s> he broke his rules and drove her home . </s> 0.597517949903 0.0\n",
      "<s> their business failed . </s> 0.597384542893 1.0\n",
      "<s> they had a happy dinner in the kitchen , </s> 0.596653618492 1.0\n",
      "<s> gina had a great time . </s> 0.595883528976 1.0\n",
      "<s> andrea gave the dog to a stranger . </s> 0.595824222756 0.0\n",
      "<s> amy 's mom wanted to hang out with her next time . </s> 0.59391736952 1.0\n",
      "<s> jordan was sad and broke off his relationship with sally . </s> 0.593482562663 0.0\n",
      "<s> he calls them back and schedules an interview . </s> 0.592856856393 0.0\n",
      "<s> neil enjoyed sicily . </s> 0.592144294798 1.0\n",
      "<s> they decided to cancel the vacation . </s> 0.590699258209 1.0\n",
      "<s> the therapist told the mother everything her son had said. </s> 0.589920211237 1.0\n",
      "<s> mona went inside to see the movie . </s> 0.588881988054 1.0\n",
      "<s> tim aced the test and passed with flying colors . </s> 0.587622858591 1.0\n",
      "<s> tim compiled a report on rabbits . </s> 0.587589242066 1.0\n",
      "<s> they have fun gossiping . </s> 0.587308779828 1.0\n",
      "<s> aspen began to panic . </s> 0.586612409901 0.0\n",
      "<s> he went to tcu and graduated . </s> 0.585442476438 1.0\n",
      "<s> i was really disappointed and hungrier than ever . </s> 0.584629450938 1.0\n",
      "<s> they called the police to come to my house . </s> 0.584453404517 0.0\n",
      "<s> he became very depressed . </s> 0.582881027368 0.0\n",
      "<s> the hardest part was eating it while it burned . </s> 0.582138359426 1.0\n",
      "<s> sandy bought three new homes . </s> 0.580882522911 0.0\n",
      "<s> i swore to always wear sunscreen in the future . </s> 0.580461525533 0.0\n",
      "<s> ted was happy to see his buddy bob . </s> 0.579925603453 0.0\n",
      "<s> all the girls quiet book club . </s> 0.579774884657 1.0\n",
      "<s> the cake still was n't prepared correctly . </s> 0.578917321936 1.0\n",
      "<s> will was then fired from his job . </s> 0.57851604202 1.0\n",
      "<s> sandy lost her home . </s> 0.578164245477 0.0\n",
      "<s> joe was happy to be having such a good day . </s> 0.576806519156 0.0\n",
      "<s> my friend had a less than fabulous time there . </s> 0.576663581068 0.0\n",
      "<s> stevie was mad at his parents . </s> 0.576368632901 1.0\n",
      "<s> aaron then cooked the swan on his stove . </s> 0.576095381938 1.0\n",
      "<s> rory went to a restaurant and ate a huge meal . </s> 0.575753764109 0.0\n",
      "<s> tim then took another bite of pizza . </s> 0.573143106731 1.0\n",
      "<s> harry 's hunger is satiated . </s> 0.570398451162 0.0\n",
      "<s> peter decided to buy the pair and went home . </s> 0.569516977049 1.0\n",
      "<s> ben never starts working out . </s> 0.569390680023 1.0\n",
      "<s> amelia ate UUNKNOWNN the dandelion salad . </s> 0.569238499217 0.0\n",
      "<s> anna was proud of her hard work paying off . </s> 0.568983172277 1.0\n",
      "<s> now horatio enjoys traveling to many big cities . </s> 0.568211240603 1.0\n",
      "<s> the lab and dennis became best friends . </s> 0.566711435227 1.0\n",
      "<s> the pilgrims bought many souvenirs there . </s> 0.564746579182 0.0\n",
      "<s> i hate it there because it 's so expensive . </s> 0.564692697569 1.0\n",
      "<s> thomas became friends with the smaller kid . </s> 0.564417812672 0.0\n",
      "<s> i apologized and turned it down . </s> 0.564318362166 1.0\n",
      "<s> kay was relieved because she had moved on to peppermint . </s> 0.563984712376 1.0\n",
      "<s> he was mad that he watched breaking bad . </s> 0.563791373705 1.0\n",
      "<s> nina was unable to control her addictions at all . </s> 0.560720123017 1.0\n",
      "<s> rick thought geckos were totally worth the trip . </s> 0.559299697436 1.0\n",
      "<s> harris could not outrun the police and was caught . </s> 0.558039100851 1.0\n",
      "<s> mike hung up on him . </s> 0.558036545662 0.0\n",
      "<s> jennifer was tired when she finished . </s> 0.557673126812 1.0\n",
      "<s> the child was happy with his nuggets . </s> 0.557537295924 1.0\n",
      "<s> amy explained the situation and moved on . </s> 0.557436402111 0.0\n",
      "0.64\n",
      "10.56\n"
     ]
    }
   ],
   "source": [
    "#show the top 50 scoring endings\n",
    "print_out_num = 100\n",
    "correct_count = 0\n",
    "ave_len = 0.0\n",
    "for i in xrange(print_out_num):\n",
    "    index = int(sorted_score_matrix[1870-(print_out_num-i)][0])\n",
    "    ends = int(sorted_score_matrix[1870-(print_out_num - i)][0]*10) % 10\n",
    "    if ends == 0:\n",
    "        end_text = end1[index]\n",
    "    else:\n",
    "        end_text = end2[index]\n",
    "    if int(sorted_score_matrix[1870 - (print_out_num - i)][2]) == 1:\n",
    "        correct_count += 1\n",
    "    ave_len += len(end_text)\n",
    "    print index2word(end_text), sorted_score_matrix[1870 -(print_out_num -i)][1] , sorted_score_matrix[1870-(print_out_num - i)][2]\n",
    "print correct_count / float(print_out_num)\n",
    "print ave_len/print_out_num\n"
   ]
  },
  {
   "cell_type": "code",
   "execution_count": null,
   "metadata": {
    "collapsed": true
   },
   "outputs": [],
   "source": []
  }
 ],
 "metadata": {
  "kernelspec": {
   "display_name": "Python 2",
   "language": "python",
   "name": "python2"
  },
  "language_info": {
   "codemirror_mode": {
    "name": "ipython",
    "version": 2
   },
   "file_extension": ".py",
   "mimetype": "text/x-python",
   "name": "python",
   "nbconvert_exporter": "python",
   "pygments_lexer": "ipython2",
   "version": "2.7.13"
  }
 },
 "nbformat": 4,
 "nbformat_minor": 0
}
