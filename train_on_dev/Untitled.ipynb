{
 "cells": [
  {
   "cell_type": "code",
   "execution_count": 3,
   "metadata": {
    "collapsed": true
   },
   "outputs": [],
   "source": [
    "def account_acc_hier(filename_suffix):\n",
    "    acc_matrix = []\n",
    "    for i in range(5):\n",
    "        concGothr = []\n",
    "        for j in range(2):\n",
    "            with open('./'+filename_suffix+str(i)+str(j)+'.out','r') as f:\n",
    "                best_val_acc = 0.0\n",
    "                last_test_acc = 0.0\n",
    "                test_record_flag = False\n",
    "                info = f.readlines()\n",
    "                for line in info:\n",
    "                    if line.startswith('val set accuracy:'):\n",
    "                        tokens = line.split()\n",
    "                        val_acc = float(tokens[-2])\n",
    "                        if val_acc >= best_val_acc:\n",
    "                            best_val_acc = val_acc\n",
    "                            test_record_flag = True\n",
    "\n",
    "                    if line.startswith('test set accuracy:'):\n",
    "                        tokens = line.split()\n",
    "                        test_acc = float(tokens[-2])\n",
    "                        if test_record_flag:\n",
    "                            last_test_acc = test_acc\n",
    "                            test_record_flag = False\n",
    "\n",
    "            concGothr.append((best_val_acc, last_test_acc))\n",
    "        acc_matrix.append(concGothr)\n",
    "    return acc_matrix\n",
    "\n",
    "def account_acc(filename_suffix):\n",
    "    acc_matrix = []\n",
    "    for i in range(5):\n",
    "        with open('./'+filename_suffix+str(i)+'.out','r') as f:\n",
    "            best_val_acc = 0.0\n",
    "            last_test_acc = 0.0\n",
    "            test_record_flag = False\n",
    "            info = f.readlines()\n",
    "            for line in info:\n",
    "                if line.startswith('val set accuracy:'):\n",
    "                    tokens = line.split()\n",
    "                    val_acc = float(tokens[-2])\n",
    "                    if val_acc >= best_val_acc:\n",
    "                        best_val_acc = val_acc\n",
    "                        test_record_flag = True\n",
    "\n",
    "                if line.startswith('test set accuracy:'):\n",
    "                    tokens = line.split()\n",
    "                    test_acc = float(tokens[-2])\n",
    "                    if test_record_flag:\n",
    "                        last_test_acc = test_acc\n",
    "                        test_record_flag = False\n",
    "\n",
    "            acc_matrix.append((best_val_acc, last_test_acc))\n",
    "    return acc_matrix\n"
   ]
  },
  {
   "cell_type": "code",
   "execution_count": 23,
   "metadata": {
    "collapsed": false
   },
   "outputs": [
    {
     "data": {
      "text/plain": [
       "[[(81.6711590296, 70.6039551042), (80.0539083558, 71.0849812934)],\n",
       " [(80.5929919137, 72.528059861), (0.0, 0.0)],\n",
       " [(0.0, 0.0), (82.4797843666, 70.5505077499)],\n",
       " [(80.0539083558, 73.4366648851), (79.5148247978, 72.1004810262)],\n",
       " [(77.358490566, 70.4970603955), (78.4366576819, 71.9935863175)]]"
      ]
     },
     "execution_count": 23,
     "metadata": {},
     "output_type": "execute_result"
    }
   ],
   "source": [
    "atthier_acc = account_acc_hier('ATTCVHier')\n",
    "\n",
    "atthier_acc[1][1] = (0.0, 0.0)\n",
    "atthier_acc[2][0] = (0.0, 0.0)\n",
    "\n",
    "atthier_acc"
   ]
  },
  {
   "cell_type": "code",
   "execution_count": 4,
   "metadata": {
    "collapsed": false
   },
   "outputs": [
    {
     "data": {
      "text/plain": [
       "[[(81.6711590296, 72.4211651523), (80.3234501348, 70.2298236237)],\n",
       " [(80.5929919137, 71.2453233565), (82.2102425876, 71.1918760021)],\n",
       " [(81.4016172507, 72.528059861), (81.4016172507, 70.1763762694)],\n",
       " [(80.8625336927, 69.214323891), (81.9407008086, 74.7194013896)],\n",
       " [(77.0889487871, 72.8487439872), (76.5498652291, 69.6953500802)]]"
      ]
     },
     "execution_count": 4,
     "metadata": {},
     "output_type": "execute_result"
    }
   ],
   "source": [
    "nonatthier_acc = account_acc_hier('NonAttHier')\n",
    "nonatthier_acc"
   ]
  },
  {
   "cell_type": "code",
   "execution_count": 24,
   "metadata": {
    "collapsed": false
   },
   "outputs": [
    {
     "name": "stdout",
     "output_type": "stream",
     "text": [
      "79.9191374663\n",
      "80.1212938005\n"
     ]
    }
   ],
   "source": [
    "import numpy as np\n",
    "\n",
    "ave_concate_hier = np.sum(np.asarray([atthier_acc[i][0][0] for i in range(5)]))/4.0\n",
    "ave_gothrough_hier = np.sum(np.asarray([atthier_acc[i][1][0] for i in range(5)]))/4.0\n",
    "\n",
    "print ave_concate_hier\n",
    "print ave_gothrough_hier"
   ]
  },
  {
   "cell_type": "code",
   "execution_count": 10,
   "metadata": {
    "collapsed": false
   },
   "outputs": [
    {
     "name": "stdout",
     "output_type": "stream",
     "text": [
      "80.3234501348\n",
      "80.4851752022\n"
     ]
    }
   ],
   "source": [
    "\n",
    "nonatt_ave_concate_hier = np.sum(np.asarray([nonatthier_acc[i][0][0] for i in range(5)]))/5.0\n",
    "nonatt_ave_gothrough_hier = np.sum(np.asarray([nonatthier_acc[i][1][0] for i in range(5)]))/5.0\n",
    "\n",
    "print nonatt_ave_concate_hier\n",
    "print nonatt_ave_gothrough_hier"
   ]
  },
  {
   "cell_type": "code",
   "execution_count": null,
   "metadata": {
    "collapsed": false
   },
   "outputs": [],
   "source": [
    "\n"
   ]
  },
  {
   "cell_type": "code",
   "execution_count": 13,
   "metadata": {
    "collapsed": false
   },
   "outputs": [],
   "source": [
    "val_test_pair = account_acc('PlaintEnd')"
   ]
  },
  {
   "cell_type": "code",
   "execution_count": 14,
   "metadata": {
    "collapsed": false
   },
   "outputs": [
    {
     "name": "stdout",
     "output_type": "stream",
     "text": [
      "76.4420485175\n"
     ]
    }
   ],
   "source": [
    "val_acc_ls = np.asarray([val_test_pair[i][0] for i in range(5)])\n",
    "ave_acc = sum(val_acc_ls)/ 5.0\n",
    "print ave_acc"
   ]
  },
  {
   "cell_type": "code",
   "execution_count": 13,
   "metadata": {
    "collapsed": false
   },
   "outputs": [],
   "source": [
    "import cPickle as pickle\n",
    "import numpy as np\n",
    "\n",
    "with open('../../data/pickles/test_index_corpus.pkl', 'r') as f:\n",
    "    test_set = pickle.load(f)\n",
    "    test_ans = test_set[3]\n",
    "test_ans_vec = np.asarray(test_ans)"
   ]
  },
  {
   "cell_type": "code",
   "execution_count": 17,
   "metadata": {
    "collapsed": false
   },
   "outputs": [
    {
     "name": "stdout",
     "output_type": "stream",
     "text": [
      "0\n",
      "1\n",
      "2\n",
      "3\n",
      "4\n",
      "0.721539283805\n"
     ]
    }
   ],
   "source": [
    "\n",
    "five_scores = []\n",
    "for i in range(5):\n",
    "    print str(i)\n",
    "    f = open('./NonAttHier_record_matrixsequence-gothrough-DNNhinge-150x75x1-1-0.0-'+str(i)+'.pkl', 'r')\n",
    "    a = pickle.load(f)\n",
    "    f.close()\n",
    "    \n",
    "    five_scores.append(a)\n",
    "end1_scores = [five_scores[i][:,0] for i in range(5)]\n",
    "end2_scores = [five_scores[i][:,1] for i in range(5)]\n",
    "\n",
    "def concate(end_scores):\n",
    "    end_reshape = [end1.reshape((-1,1)) for end1 in end_scores]\n",
    "    end_concate = np.concatenate(end_reshape, axis = 1)\n",
    "    return end_concate\n",
    "\n",
    "end1_matrix = concate(end1_scores)\n",
    "end2_matrix = concate(end2_scores)\n",
    "\n",
    "final_end1_score = end1_matrix.sum(axis = 1).reshape((-1,1))\n",
    "final_end2_score = end2_matrix.sum(axis = 1).reshape((-1,1))\n",
    "final_decision = np.argmax(np.concatenate((final_end1_score,final_end2_score), axis = 1),axis = 1)\n",
    "\n",
    "acc = (1871.0 - np.count_nonzero((final_decision - test_ans_vec)))/ 1871.0\n",
    "print acc"
   ]
  },
  {
   "cell_type": "code",
   "execution_count": 86,
   "metadata": {
    "collapsed": false
   },
   "outputs": [],
   "source": [
    "end1_scores = [five_scores[i][:,0] for i in range(5)]\n",
    "end2_scores = [five_scores[i][:,1] for i in range(5)]"
   ]
  },
  {
   "cell_type": "code",
   "execution_count": 87,
   "metadata": {
    "collapsed": false
   },
   "outputs": [],
   "source": [
    "import numpy as np\n",
    "def concate(end_scores):\n",
    "    end_reshape = [end1.reshape((-1,1)) for end1 in end_scores]\n",
    "    end_concate = np.concatenate(end_reshape, axis = 1)\n",
    "    return end_concate\n",
    "\n",
    "end1_matrix = concate(end1_scores)\n",
    "end2_matrix = concate(end2_scores)\n"
   ]
  },
  {
   "cell_type": "code",
   "execution_count": 88,
   "metadata": {
    "collapsed": false
   },
   "outputs": [],
   "source": [
    "final_end1_score = end1_matrix.sum(axis = 1).reshape((-1,1))\n",
    "final_end2_score = end2_matrix.sum(axis = 1).reshape((-1,1))\n",
    "final_decision = np.argmax(np.concatenate((final_end1_score,final_end2_score), axis = 1),axis = 1)\n"
   ]
  },
  {
   "cell_type": "code",
   "execution_count": 89,
   "metadata": {
    "collapsed": false
   },
   "outputs": [],
   "source": [
    "with open('../../data/pickles/test_index_corpus.pkl', 'r') as f:\n",
    "    test_set = pickle.load(f)\n",
    "    test_ans = test_set[3]\n",
    "test_ans_vec = np.asarray(test_ans)"
   ]
  },
  {
   "cell_type": "code",
   "execution_count": 90,
   "metadata": {
    "collapsed": true
   },
   "outputs": [],
   "source": [
    "acc = (1871.0 - np.count_nonzero((final_decision - test_ans_vec)))/ 1871.0\n"
   ]
  },
  {
   "cell_type": "code",
   "execution_count": 91,
   "metadata": {
    "collapsed": false
   },
   "outputs": [
    {
     "name": "stdout",
     "output_type": "stream",
     "text": [
      "0.663281667557\n"
     ]
    }
   ],
   "source": [
    "print acc"
   ]
  },
  {
   "cell_type": "code",
   "execution_count": 54,
   "metadata": {
    "collapsed": false
   },
   "outputs": [
    {
     "name": "stdout",
     "output_type": "stream",
     "text": [
      "[[ 0.86403882  0.08119898]\n",
      " [-0.659258   -0.66733739]\n",
      " [ 0.95036546 -0.95985331]\n",
      " ..., \n",
      " [-0.61107695  0.91769562]\n",
      " [ 0.7564098   0.89060787]\n",
      " [ 0.87376921  0.63988742]]\n"
     ]
    }
   ],
   "source": [
    "with open('./test_score_record_matrix_plaint_GoThroughlast--hinge-512x1-1-0.2-4.pkl','r') as f:\n",
    "    print pickle.load(f)"
   ]
  },
  {
   "cell_type": "code",
   "execution_count": null,
   "metadata": {
    "collapsed": true
   },
   "outputs": [],
   "source": []
  }
 ],
 "metadata": {
  "kernelspec": {
   "display_name": "Python 2",
   "language": "python",
   "name": "python2"
  }
 },
 "nbformat": 4,
 "nbformat_minor": 0
}
